{
 "cells": [
  {
   "cell_type": "code",
   "execution_count": null,
   "metadata": {},
   "outputs": [],
   "source": [
    "class EMEBISOO:\n",
    "    def __init__(self, prob, gen_length, MAX_FES, pop_size):\n",
    "        self.prob = prob\n",
    "        self.gen_length = gen_length \n",
    "        self.MAX_FES = MAX_FES\n",
    "        self.pop_size = pop_size\n",
    "    def run(self):\n",
    "        while True:\n",
    "            old_fes = Parameter.FEs\n",
    "            pop = Population(self.pop_size, self.gen_length, self.prob)\n",
    "            pop.init()"
   ]
  }
 ],
 "metadata": {
  "language_info": {
   "name": "python"
  }
 },
 "nbformat": 4,
 "nbformat_minor": 2
}
