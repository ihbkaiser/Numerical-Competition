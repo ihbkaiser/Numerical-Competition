{
 "cells": [
  {
   "cell_type": "markdown",
   "metadata": {},
   "source": [
    "# Import functions and algorithms"
   ]
  },
  {
   "cell_type": "code",
   "execution_count": 1,
   "metadata": {},
   "outputs": [],
   "source": [
    "import scipy.io as scio\n",
    "import numpy as np\n",
    "from GNBG import GNBG \n",
    "from MFEAcode import *\n",
    "from DE import DE\n",
    "from EMEBI import *\n",
    "from Execute import *"
   ]
  },
  {
   "cell_type": "code",
   "execution_count": 2,
   "metadata": {},
   "outputs": [
    {
     "name": "stdout",
     "output_type": "stream",
     "text": [
      "ID: 16\n",
      "Optimal value:  -5000\n"
     ]
    }
   ],
   "source": [
    "from scipy.optimize import fmin_l_bfgs_b\n",
    "\n",
    "fit, sol, res = fmin_l_bfgs_b(func = GNBG(16).fitness_mfea, x0 = np.random.rand(30), approx_grad=True, bounds=[(0,1)]*30, factr=10)"
   ]
  },
  {
   "cell_type": "code",
   "execution_count": 3,
   "metadata": {},
   "outputs": [],
   "source": [
    "from SpaceDecomposition import SpaceDecomposition\n",
    "spaces = SpaceDecomposition(bounds=[0, 1], dims=30, num_points=30, extend=1.2).extension()"
   ]
  },
  {
   "cell_type": "code",
   "execution_count": 4,
   "metadata": {},
   "outputs": [],
   "source": [
    "def check(x, spaces):\n",
    "    valid_space = []\n",
    "    for space in spaces:\n",
    "        valid = True\n",
    "        for i in range(30):\n",
    "            LB, UB = space[i]\n",
    "            if x[i] < LB or x[i] > UB:\n",
    "                valid = False\n",
    "        valid_space.append(space) if valid else None\n",
    "    return valid_space"
   ]
  },
  {
   "cell_type": "code",
   "execution_count": 5,
   "metadata": {},
   "outputs": [
    {
     "data": {
      "text/plain": [
       "array([0.1000915 , 0.37644858, 0.2635618 , 0.54695186, 0.35073934,\n",
       "       0.13124382, 0.86631162, 0.76770054, 0.32435519, 0.33489131,\n",
       "       0.26930249, 0.21738286, 0.65552012, 0.51191129, 0.21142107,\n",
       "       0.37821269, 0.70075394, 0.87187204, 0.4599297 , 0.55894358,\n",
       "       0.80875368, 0.84354978, 0.84607637, 0.83841963, 0.12264518,\n",
       "       0.77362471, 0.54882417, 0.41028851, 0.14793415, 0.67039118])"
      ]
     },
     "execution_count": 5,
     "metadata": {},
     "output_type": "execute_result"
    }
   ],
   "source": [
    "fit"
   ]
  },
  {
   "cell_type": "code",
   "execution_count": 6,
   "metadata": {},
   "outputs": [
    {
     "data": {
      "text/plain": [
       "[[[0.0, 0.2783550432959273],\n",
       "  [0.0, 1.0],\n",
       "  [0.0, 1.0],\n",
       "  [0.0, 1.0],\n",
       "  [0.0, 1.0],\n",
       "  [0.0, 1.0],\n",
       "  [0.0, 1.0],\n",
       "  [0.0, 1.0],\n",
       "  [0.0, 1.0],\n",
       "  [0.0, 1.0],\n",
       "  [0.0, 1.0],\n",
       "  [0.0, 1.0],\n",
       "  [0.0, 1.0],\n",
       "  [0.0, 1.0],\n",
       "  [0.0, 1.0],\n",
       "  [0.0, 1.0],\n",
       "  [0.0, 1.0],\n",
       "  [0.0, 1.0],\n",
       "  [0.0, 1.0],\n",
       "  [0.0, 1.0],\n",
       "  [0.0, 1.0],\n",
       "  [0.0, 1.0],\n",
       "  [0.0, 1.0],\n",
       "  [0.0, 1.0],\n",
       "  [0.0, 1.0],\n",
       "  [0.0, 1.0],\n",
       "  [0.0, 1.0],\n",
       "  [0.0, 1.0],\n",
       "  [0.0, 1.0],\n",
       "  [0.0, 1.0]]]"
      ]
     },
     "execution_count": 6,
     "metadata": {},
     "output_type": "execute_result"
    }
   ],
   "source": [
    "check(fit, spaces)"
   ]
  },
  {
   "cell_type": "code",
   "execution_count": 7,
   "metadata": {},
   "outputs": [
    {
     "name": "stdout",
     "output_type": "stream",
     "text": [
      "ID: 24\n",
      "Optimal value:  -100\n"
     ]
    },
    {
     "ename": "KeyboardInterrupt",
     "evalue": "",
     "output_type": "error",
     "traceback": [
      "\u001b[1;31m---------------------------------------------------------------------------\u001b[0m",
      "\u001b[1;31mKeyboardInterrupt\u001b[0m                         Traceback (most recent call last)",
      "Cell \u001b[1;32mIn[7], line 10\u001b[0m\n\u001b[0;32m      8\u001b[0m sigma0 \u001b[38;5;241m=\u001b[39m \u001b[38;5;28mmin\u001b[39m([(upper_bounds[k] \u001b[38;5;241m-\u001b[39m lower_bounds[k]) \u001b[38;5;241m/\u001b[39m \u001b[38;5;241m5\u001b[39m \u001b[38;5;28;01mfor\u001b[39;00m k \u001b[38;5;129;01min\u001b[39;00m \u001b[38;5;28mrange\u001b[39m(\u001b[38;5;241m30\u001b[39m)])\n\u001b[0;32m      9\u001b[0m x0 \u001b[38;5;241m=\u001b[39m np\u001b[38;5;241m.\u001b[39mrandom\u001b[38;5;241m.\u001b[39mrand(\u001b[38;5;241m30\u001b[39m)\n\u001b[1;32m---> 10\u001b[0m res \u001b[38;5;241m=\u001b[39m \u001b[43mfmin\u001b[49m\u001b[43m(\u001b[49m\u001b[43mobjective_function\u001b[49m\u001b[38;5;241;43m=\u001b[39;49m\u001b[43m  \u001b[49m\u001b[43mGNBG\u001b[49m\u001b[43m(\u001b[49m\u001b[38;5;241;43m24\u001b[39;49m\u001b[43m)\u001b[49m\u001b[38;5;241;43m.\u001b[39;49m\u001b[43mfitness_mfea\u001b[49m\u001b[43m,\u001b[49m\u001b[43m \u001b[49m\u001b[43mx0\u001b[49m\u001b[43m \u001b[49m\u001b[38;5;241;43m=\u001b[39;49m\u001b[43m \u001b[49m\u001b[43mx0\u001b[49m\u001b[43m,\u001b[49m\u001b[43m \u001b[49m\u001b[43msigma0\u001b[49m\u001b[43m \u001b[49m\u001b[38;5;241;43m=\u001b[39;49m\u001b[43m \u001b[49m\u001b[43msigma0\u001b[49m\u001b[43m,\u001b[49m\u001b[43m \u001b[49m\u001b[43moptions\u001b[49m\u001b[43m \u001b[49m\u001b[38;5;241;43m=\u001b[39;49m\u001b[43m \u001b[49m\u001b[43moptions\u001b[49m\u001b[43m,\u001b[49m\u001b[43m \u001b[49m\u001b[43mrestarts\u001b[49m\u001b[38;5;241;43m=\u001b[39;49m\u001b[38;5;241;43m3\u001b[39;49m\u001b[43m,\u001b[49m\u001b[43m \u001b[49m\u001b[43mrestart_from_best\u001b[49m\u001b[38;5;241;43m=\u001b[39;49m\u001b[38;5;28;43;01mTrue\u001b[39;49;00m\u001b[43m,\u001b[49m\u001b[43m \u001b[49m\u001b[43mincpopsize\u001b[49m\u001b[38;5;241;43m=\u001b[39;49m\u001b[38;5;241;43m2\u001b[39;49m\u001b[43m)\u001b[49m\n",
      "File \u001b[1;32mc:\\Users\\DELL\\AppData\\Local\\Programs\\Python\\Python312\\Lib\\site-packages\\cma\\evolution_strategy.py:4840\u001b[0m, in \u001b[0;36mfmin\u001b[1;34m(objective_function, x0, sigma0, options, args, gradf, restarts, restart_from_best, incpopsize, eval_initial_x, parallel_objective, noise_handler, noise_change_sigma_exponent, noise_kappa_exponent, bipop, callback)\u001b[0m\n\u001b[0;32m   4836\u001b[0m         \u001b[38;5;28;01mif\u001b[39;00m degrading_iterations_count \u001b[38;5;241m>\u001b[39m \u001b[38;5;241m4\u001b[39m:\n\u001b[0;32m   4837\u001b[0m             utils\u001b[38;5;241m.\u001b[39mprint_message(\u001b[38;5;124m'\u001b[39m\u001b[38;5;132;01m%d\u001b[39;00m\u001b[38;5;124m f-degrading iterations (set verbose<=4 to suppress)\u001b[39m\u001b[38;5;124m'\u001b[39m\n\u001b[0;32m   4838\u001b[0m                                 \u001b[38;5;241m%\u001b[39m degrading_iterations_count,\n\u001b[0;32m   4839\u001b[0m                                 iteration\u001b[38;5;241m=\u001b[39mes\u001b[38;5;241m.\u001b[39mcountiter)\n\u001b[1;32m-> 4840\u001b[0m \u001b[43mes\u001b[49m\u001b[38;5;241;43m.\u001b[39;49m\u001b[43mtell\u001b[49m\u001b[43m(\u001b[49m\u001b[43mX\u001b[49m\u001b[43m,\u001b[49m\u001b[43m \u001b[49m\u001b[43mfit\u001b[49m\u001b[43m)\u001b[49m  \u001b[38;5;66;03m# prepare for next iteration\u001b[39;00m\n\u001b[0;32m   4841\u001b[0m \u001b[38;5;28;01mif\u001b[39;00m noise_handling:  \u001b[38;5;66;03m# it would be better to also use these f-evaluations in tell\u001b[39;00m\n\u001b[0;32m   4842\u001b[0m     es\u001b[38;5;241m.\u001b[39msigma \u001b[38;5;241m*\u001b[39m\u001b[38;5;241m=\u001b[39m noisehandler(X, fit, objective_function, es\u001b[38;5;241m.\u001b[39mask,\n\u001b[0;32m   4843\u001b[0m                              args\u001b[38;5;241m=\u001b[39margs)\u001b[38;5;241m*\u001b[39m\u001b[38;5;241m*\u001b[39mfmin_opts[\u001b[38;5;124m'\u001b[39m\u001b[38;5;124mnoise_change_sigma_exponent\u001b[39m\u001b[38;5;124m'\u001b[39m]\n",
      "File \u001b[1;32mc:\\Users\\DELL\\AppData\\Local\\Programs\\Python\\Python312\\Lib\\site-packages\\cma\\evolution_strategy.py:3009\u001b[0m, in \u001b[0;36mCMAEvolutionStrategy.tell\u001b[1;34m(self, solutions, function_values, check_points, copy)\u001b[0m\n\u001b[0;32m   3007\u001b[0m         pop_zero_encoded \u001b[38;5;241m=\u001b[39m pop_zero \u001b[38;5;241m/\u001b[39m (\u001b[38;5;28mself\u001b[39m\u001b[38;5;241m.\u001b[39msigma \u001b[38;5;241m*\u001b[39m \u001b[38;5;28mself\u001b[39m\u001b[38;5;241m.\u001b[39msigma_vec\u001b[38;5;241m.\u001b[39mscaling)\n\u001b[0;32m   3008\u001b[0m         \u001b[38;5;66;03m# pc is already good\u001b[39;00m\n\u001b[1;32m-> 3009\u001b[0m     \u001b[38;5;28;43mself\u001b[39;49m\u001b[38;5;241;43m.\u001b[39;49m\u001b[43msm\u001b[49m\u001b[38;5;241;43m.\u001b[39;49m\u001b[43mupdate\u001b[49m\u001b[43m(\u001b[49m\u001b[43m[\u001b[49m\u001b[43m(\u001b[49m\u001b[43mc1\u001b[49m\u001b[43m \u001b[49m\u001b[38;5;241;43m/\u001b[39;49m\u001b[43m \u001b[49m\u001b[43m(\u001b[49m\u001b[43mc1a\u001b[49m\u001b[43m \u001b[49m\u001b[38;5;241;43m+\u001b[39;49m\u001b[43m \u001b[49m\u001b[38;5;241;43m1e-23\u001b[39;49m\u001b[43m)\u001b[49m\u001b[43m)\u001b[49m\u001b[38;5;241;43m*\u001b[39;49m\u001b[38;5;241;43m*\u001b[39;49m\u001b[38;5;241;43m0.5\u001b[39;49m\u001b[43m \u001b[49m\u001b[38;5;241;43m*\u001b[39;49m\u001b[43m \u001b[49m\u001b[38;5;28;43mself\u001b[39;49m\u001b[38;5;241;43m.\u001b[39;49m\u001b[43mpc\u001b[49m\u001b[43m]\u001b[49m\u001b[43m \u001b[49m\u001b[38;5;241;43m+\u001b[39;49m\u001b[43m  \u001b[49m\u001b[38;5;66;43;03m# c1a * pc**2 gets c1 * pc**2\u001b[39;49;00m\n\u001b[0;32m   3010\u001b[0m \u001b[43m                  \u001b[49m\u001b[38;5;28;43mlist\u001b[39;49m\u001b[43m(\u001b[49m\u001b[43mpop_zero_encoded\u001b[49m\u001b[43m)\u001b[49m\u001b[43m,\u001b[49m\n\u001b[0;32m   3011\u001b[0m \u001b[43m                  \u001b[49m\u001b[43msampler_weights\u001b[49m\u001b[43m)\u001b[49m\n\u001b[0;32m   3012\u001b[0m \u001b[38;5;28;01mif\u001b[39;00m \u001b[38;5;28many\u001b[39m(np\u001b[38;5;241m.\u001b[39masarray(\u001b[38;5;28mself\u001b[39m\u001b[38;5;241m.\u001b[39msm\u001b[38;5;241m.\u001b[39mvariances) \u001b[38;5;241m<\u001b[39m \u001b[38;5;241m0\u001b[39m):\n\u001b[0;32m   3013\u001b[0m     \u001b[38;5;28;01mraise\u001b[39;00m \u001b[38;5;167;01mRuntimeError\u001b[39;00m(\u001b[38;5;124m\"\u001b[39m\u001b[38;5;124mA sampler variance has become negative \u001b[39m\u001b[38;5;124m\"\u001b[39m\n\u001b[0;32m   3014\u001b[0m                        \u001b[38;5;124m\"\u001b[39m\u001b[38;5;124mafter the update, this must be considered as a bug.\u001b[39m\u001b[38;5;130;01m\\n\u001b[39;00m\u001b[38;5;124m\"\u001b[39m\n\u001b[0;32m   3015\u001b[0m                        \u001b[38;5;124m\"\u001b[39m\u001b[38;5;124mVariances `self.sm.variances`=\u001b[39m\u001b[38;5;132;01m%s\u001b[39;00m\u001b[38;5;124m\"\u001b[39m \u001b[38;5;241m%\u001b[39m \u001b[38;5;28mstr\u001b[39m(\u001b[38;5;28mself\u001b[39m\u001b[38;5;241m.\u001b[39msm\u001b[38;5;241m.\u001b[39mvariances))\n",
      "File \u001b[1;32mc:\\Users\\DELL\\AppData\\Local\\Programs\\Python\\Python312\\Lib\\site-packages\\cma\\sampler.py:331\u001b[0m, in \u001b[0;36mGaussFullSampler.update\u001b[1;34m(self, vectors, weights, c1_times_delta_hsigma)\u001b[0m\n\u001b[0;32m    309\u001b[0m \u001b[38;5;250m\u001b[39m\u001b[38;5;124;03m\"\"\"update/learn by natural gradient ascent.\u001b[39;00m\n\u001b[0;32m    310\u001b[0m \n\u001b[0;32m    311\u001b[0m \u001b[38;5;124;03mThe natural gradient used for the update is::\u001b[39;00m\n\u001b[1;32m   (...)\u001b[0m\n\u001b[0;32m    328\u001b[0m \n\u001b[0;32m    329\u001b[0m \u001b[38;5;124;03m\"\"\"\u001b[39;00m\n\u001b[0;32m    330\u001b[0m weights \u001b[38;5;241m=\u001b[39m np\u001b[38;5;241m.\u001b[39marray(weights, copy\u001b[38;5;241m=\u001b[39m\u001b[38;5;28;01mTrue\u001b[39;00m)\n\u001b[1;32m--> 331\u001b[0m vectors \u001b[38;5;241m=\u001b[39m \u001b[43mnp\u001b[49m\u001b[38;5;241;43m.\u001b[39;49m\u001b[43masarray\u001b[49m\u001b[43m(\u001b[49m\u001b[43mvectors\u001b[49m\u001b[43m)\u001b[49m \u001b[38;5;66;03m# row vectors\u001b[39;00m\n\u001b[0;32m    332\u001b[0m \u001b[38;5;28;01massert\u001b[39;00m np\u001b[38;5;241m.\u001b[39misfinite(vectors[\u001b[38;5;241m0\u001b[39m][\u001b[38;5;241m0\u001b[39m])\n\u001b[0;32m    333\u001b[0m \u001b[38;5;28;01massert\u001b[39;00m \u001b[38;5;28mlen\u001b[39m(weights) \u001b[38;5;241m==\u001b[39m \u001b[38;5;28mlen\u001b[39m(vectors)\n",
      "\u001b[1;31mKeyboardInterrupt\u001b[0m: "
     ]
    }
   ],
   "source": [
    "from cma.evolution_strategy import fmin\n",
    "lower_bounds = [0 for _ in range(30)]\n",
    "upper_bounds = [1 for _ in range(30)]\n",
    "options = {\n",
    "    'bounds': [lower_bounds, upper_bounds],\n",
    "    'verbose': -9\n",
    "}\n",
    "sigma0 = min([(upper_bounds[k] - lower_bounds[k]) / 5 for k in range(30)])\n",
    "x0 = np.random.rand(30)\n",
    "res = fmin(objective_function=  GNBG(24).fitness_mfea, x0 = x0, sigma0 = sigma0, options = options, restarts=3, restart_from_best=True, incpopsize=2)\n"
   ]
  },
  {
   "cell_type": "code",
   "execution_count": null,
   "metadata": {},
   "outputs": [],
   "source": [
    "res[1]"
   ]
  },
  {
   "cell_type": "code",
   "execution_count": null,
   "metadata": {},
   "outputs": [],
   "source": [
    "# import numpy as np\n",
    "# from cmaes import CMA\n",
    "\n",
    "# func = GNBG(9).fitness_of_ind\n",
    "\n",
    "# if __name__ == \"__main__\":\n",
    "#     optimizer = CMA(mean=np.zeros(30), sigma=1.3)\n",
    "\n",
    "#     for generation in range(50):\n",
    "#         solutions = []\n",
    "#         for _ in range(optimizer.population_size):\n",
    "#             x = optimizer.ask()\n",
    "#             value = func(x)\n",
    "#             solutions.append((x, value))\n",
    "#             print(f\"#{generation} {value} (x={x})\")\n",
    "#         optimizer.tell(solutions)"
   ]
  },
  {
   "cell_type": "markdown",
   "metadata": {},
   "source": [
    "In each GNBG problem file, the author also provides the optimal value along with the corresponding solution. Thereby, we can check whether the fitness function code is correct."
   ]
  },
  {
   "cell_type": "code",
   "execution_count": null,
   "metadata": {},
   "outputs": [],
   "source": [
    "# import nevergrad as ng \n",
    "# param = ng.p.Instrumentation(ng.p.Array(shape=(30,)).set_bounds(lower=-100, upper=100))\n",
    "# func = GNBG(9).fitness_mfea\n",
    "# optimizer = ng.optimizers.NGOpt(parametrization=param, budget=10000)\n",
    "# res = optimizer.minimize(func)\n",
    "# print(func(res.value[0][0]))"
   ]
  },
  {
   "cell_type": "markdown",
   "metadata": {},
   "source": [
    "### Get parameters"
   ]
  },
  {
   "cell_type": "markdown",
   "metadata": {},
   "source": [
    "# Algorithm"
   ]
  },
  {
   "cell_type": "markdown",
   "metadata": {},
   "source": [
    "### Here, two algorithms MFEA and DE are temporarily presented. The MFEA code here has been verified, while the DE code is rewritten from the official matlab code of the organizers."
   ]
  },
  {
   "cell_type": "markdown",
   "metadata": {},
   "source": [
    "## 1. MFEA\n",
    "MFEA is a multifactorial optimization algorithm, so you should pass at least 2 functions to it to process."
   ]
  },
  {
   "cell_type": "markdown",
   "metadata": {},
   "source": [
    "Note that, in this MFEA code, each individual is a list , while the fitness_of_ind function receives an np.array as an argument, so you need to pass the np.array version of the individual when using this code."
   ]
  },
  {
   "cell_type": "code",
   "execution_count": null,
   "metadata": {},
   "outputs": [],
   "source": [
    "# print(sorted(ng.optimizers.registry.keys()))"
   ]
  },
  {
   "cell_type": "code",
   "execution_count": null,
   "metadata": {},
   "outputs": [],
   "source": [
    "# import nevergrad as ng \n",
    "# instrum = ng.p.Instrumentation(\n",
    "#     ng.p.Array(shape=(30,)).set_bounds(lower=-100, upper=100)\n",
    "# )\n",
    "# func = GNBG(1).fitness_of_ind \n",
    "# # budget = number of function evaluations\n",
    "# optimizer = ng.optimizers.PCABO(parametrization=instrum, budget=100000)\n",
    "# res = optimizer.minimize(func)\n",
    "# print(func(res.value[0][0]))"
   ]
  },
  {
   "cell_type": "code",
   "execution_count": null,
   "metadata": {},
   "outputs": [],
   "source": [
    "algorithm = MFEA(prob=[GNBG(24).fitness_mfea], POPSIZE = 100, MAX_GEN = 500, rmp = 0.3, gen_length = 30, MAX_FES = 1000000, mode=\"MFEA\")\n",
    "algorithm.run()"
   ]
  },
  {
   "cell_type": "code",
   "execution_count": null,
   "metadata": {},
   "outputs": [],
   "source": [
    "# print(sorted(ng.optimizers.registry.keys()))"
   ]
  },
  {
   "cell_type": "code",
   "execution_count": null,
   "metadata": {},
   "outputs": [],
   "source": [
    "# def check(x):\n",
    "#     return not np.all((x >= 0) & (x <= 1))"
   ]
  },
  {
   "cell_type": "code",
   "execution_count": 1,
   "metadata": {},
   "outputs": [
    {
     "name": "stdout",
     "output_type": "stream",
     "text": [
      "ID: 24\n",
      "Optimal value:  -100\n"
     ]
    },
    {
     "name": "stderr",
     "output_type": "stream",
     "text": [
      "Current fitness: 1: -98.90165316616695 :  98%|█████████▊| 489k/500k [04:01<00:05, 2.06kFEs/s]  "
     ]
    },
    {
     "ename": "KeyboardInterrupt",
     "evalue": "",
     "output_type": "error",
     "traceback": [
      "\u001b[1;31m---------------------------------------------------------------------------\u001b[0m",
      "\u001b[1;31mKeyboardInterrupt\u001b[0m                         Traceback (most recent call last)",
      "Cell \u001b[1;32mIn[1], line 4\u001b[0m\n\u001b[0;32m      2\u001b[0m \u001b[38;5;28;01mfrom\u001b[39;00m \u001b[38;5;21;01mEMEBI\u001b[39;00m \u001b[38;5;28;01mimport\u001b[39;00m \u001b[38;5;241m*\u001b[39m\n\u001b[0;32m      3\u001b[0m algorithm2 \u001b[38;5;241m=\u001b[39m EMEBI(name\u001b[38;5;241m=\u001b[39m\u001b[38;5;124m\"\u001b[39m\u001b[38;5;124mEMEBI\u001b[39m\u001b[38;5;124m\"\u001b[39m, prob\u001b[38;5;241m=\u001b[39m[GNBG(\u001b[38;5;241m24\u001b[39m)\u001b[38;5;241m.\u001b[39mfitness_mfea], gen_length\u001b[38;5;241m=\u001b[39m\u001b[38;5;241m30\u001b[39m, MAX_FES \u001b[38;5;241m=\u001b[39m \u001b[38;5;241m500000\u001b[39m, phasethree\u001b[38;5;241m=\u001b[39m\u001b[38;5;28;01mTrue\u001b[39;00m, das_crossover\u001b[38;5;241m=\u001b[39m\u001b[38;5;28;01mFalse\u001b[39;00m, dynamic_pop\u001b[38;5;241m=\u001b[39m\u001b[38;5;28;01mFalse\u001b[39;00m)\n\u001b[1;32m----> 4\u001b[0m log2, pop2 \u001b[38;5;241m=\u001b[39m \u001b[43malgorithm2\u001b[49m\u001b[38;5;241;43m.\u001b[39;49m\u001b[43mrun\u001b[49m\u001b[43m(\u001b[49m\u001b[43m)\u001b[49m\n",
      "File \u001b[1;32mc:\\Users\\DELL\\OneDrive - Hanoi University of Science and Technology\\Documents\\Numerical Competition\\EMEBI.py:84\u001b[0m, in \u001b[0;36mEMEBI.run\u001b[1;34m(self, checkpoint)\u001b[0m\n\u001b[0;32m     82\u001b[0m     \u001b[38;5;28mself\u001b[39m\u001b[38;5;241m.\u001b[39mphaseThree(D0, pop)\n\u001b[0;32m     83\u001b[0m \u001b[38;5;28;01mif\u001b[39;00m \u001b[38;5;28mself\u001b[39m\u001b[38;5;241m.\u001b[39mphasethree:\n\u001b[1;32m---> 84\u001b[0m     \u001b[38;5;28;43mself\u001b[39;49m\u001b[38;5;241;43m.\u001b[39;49m\u001b[43mphaseTwo\u001b[49m\u001b[43m(\u001b[49m\u001b[43mD0\u001b[49m\u001b[43m,\u001b[49m\u001b[43m \u001b[49m\u001b[43mpop\u001b[49m\u001b[43m)\u001b[49m\n\u001b[0;32m     85\u001b[0m new_fes \u001b[38;5;241m=\u001b[39m Parameter\u001b[38;5;241m.\u001b[39mFEs\n\u001b[0;32m     87\u001b[0m \u001b[38;5;28;01mif\u001b[39;00m Parameter\u001b[38;5;241m.\u001b[39mFEs \u001b[38;5;241m<\u001b[39m\u001b[38;5;241m=\u001b[39m \u001b[38;5;28mself\u001b[39m\u001b[38;5;241m.\u001b[39mMAX_FES:\n",
      "File \u001b[1;32mc:\\Users\\DELL\\OneDrive - Hanoi University of Science and Technology\\Documents\\Numerical Competition\\EMEBI.py:223\u001b[0m, in \u001b[0;36mEMEBI.phaseTwo\u001b[1;34m(self, D0, pop)\u001b[0m\n\u001b[0;32m    221\u001b[0m subpops \u001b[38;5;241m=\u001b[39m pop\u001b[38;5;241m.\u001b[39mget_subpops()\n\u001b[0;32m    222\u001b[0m \u001b[38;5;28;01mfor\u001b[39;00m i \u001b[38;5;129;01min\u001b[39;00m \u001b[38;5;28mrange\u001b[39m(\u001b[38;5;28mlen\u001b[39m(\u001b[38;5;28mself\u001b[39m\u001b[38;5;241m.\u001b[39mprob)):\n\u001b[1;32m--> 223\u001b[0m     nextPop \u001b[38;5;241m=\u001b[39m \u001b[38;5;28;43mself\u001b[39;49m\u001b[38;5;241;43m.\u001b[39;49m\u001b[43mlearningPhase\u001b[49m\u001b[43m[\u001b[49m\u001b[43mi\u001b[49m\u001b[43m]\u001b[49m\u001b[38;5;241;43m.\u001b[39;49m\u001b[43mevolve\u001b[49m\u001b[43m(\u001b[49m\u001b[43msubpops\u001b[49m\u001b[43m[\u001b[49m\u001b[43mi\u001b[49m\u001b[43m]\u001b[49m\u001b[43m,\u001b[49m\u001b[43m \u001b[49m\u001b[38;5;241;43m1000\u001b[39;49m\u001b[43m,\u001b[49m\u001b[43m \u001b[49m\u001b[38;5;241;43m1000\u001b[39;49m\u001b[43m)\u001b[49m\n\u001b[0;32m    224\u001b[0m     newPop\u001b[38;5;241m.\u001b[39mextend(nextPop)\n\u001b[0;32m    225\u001b[0m pop\u001b[38;5;241m.\u001b[39mpop \u001b[38;5;241m=\u001b[39m newPop\n",
      "File \u001b[1;32mc:\\Users\\DELL\\OneDrive - Hanoi University of Science and Technology\\Documents\\Numerical Competition\\Learning.py:92\u001b[0m, in \u001b[0;36mLearningPhaseILS.evolve\u001b[1;34m(self, subpop, DE_evals, LS_evals)\u001b[0m\n\u001b[0;32m     90\u001b[0m max_DE \u001b[38;5;241m=\u001b[39m Parameter\u001b[38;5;241m.\u001b[39mFEs \u001b[38;5;241m+\u001b[39m DE_evals\n\u001b[0;32m     91\u001b[0m \u001b[38;5;28;01mwhile\u001b[39;00m Parameter\u001b[38;5;241m.\u001b[39mFEs \u001b[38;5;241m<\u001b[39m max_DE:\n\u001b[1;32m---> 92\u001b[0m     subpop \u001b[38;5;241m=\u001b[39m \u001b[38;5;28;43mself\u001b[39;49m\u001b[38;5;241;43m.\u001b[39;49m\u001b[43mexplorer\u001b[49m\u001b[38;5;241;43m.\u001b[39;49m\u001b[43msearch\u001b[49m\u001b[43m(\u001b[49m\u001b[43msubpop\u001b[49m\u001b[43m)\u001b[49m\n\u001b[0;32m     93\u001b[0m \u001b[38;5;66;03m################################################################\u001b[39;00m\n\u001b[0;32m     94\u001b[0m subpop\u001b[38;5;241m.\u001b[39msort(key \u001b[38;5;241m=\u001b[39m \u001b[38;5;28;01mlambda\u001b[39;00m ind: ind\u001b[38;5;241m.\u001b[39mfitness[ind\u001b[38;5;241m.\u001b[39mskill_factor\u001b[38;5;241m-\u001b[39m\u001b[38;5;241m1\u001b[39m])\n",
      "File \u001b[1;32mc:\\Users\\DELL\\OneDrive - Hanoi University of Science and Technology\\Documents\\Numerical Competition\\Searcher.py:255\u001b[0m, in \u001b[0;36mDE.search\u001b[1;34m(self, pool)\u001b[0m\n\u001b[0;32m    253\u001b[0m r \u001b[38;5;241m=\u001b[39m random\u001b[38;5;241m.\u001b[39mrandint(\u001b[38;5;241m0\u001b[39m, \u001b[38;5;28mself\u001b[39m\u001b[38;5;241m.\u001b[39mH \u001b[38;5;241m-\u001b[39m \u001b[38;5;241m1\u001b[39m)\n\u001b[0;32m    254\u001b[0m f, cr \u001b[38;5;241m=\u001b[39m \u001b[38;5;28mself\u001b[39m\u001b[38;5;241m.\u001b[39mgenerateFCR(\u001b[38;5;28mself\u001b[39m\u001b[38;5;241m.\u001b[39mmem_f[r], \u001b[38;5;28mself\u001b[39m\u001b[38;5;241m.\u001b[39mmem_cr[r])\n\u001b[1;32m--> 255\u001b[0m new_ind \u001b[38;5;241m=\u001b[39m \u001b[38;5;28;43mself\u001b[39;49m\u001b[38;5;241;43m.\u001b[39;49m\u001b[43mpbest_ind\u001b[49m\u001b[43m(\u001b[49m\u001b[43mpool\u001b[49m\u001b[43m,\u001b[49m\u001b[43m \u001b[49m\u001b[43mind\u001b[49m\u001b[43m,\u001b[49m\u001b[43m \u001b[49m\u001b[43mcr\u001b[49m\u001b[43m,\u001b[49m\u001b[43m \u001b[49m\u001b[43mf\u001b[49m\u001b[43m,\u001b[49m\u001b[43m \u001b[49m\u001b[43mbest\u001b[49m\u001b[43m)\u001b[49m\n\u001b[0;32m    256\u001b[0m \u001b[38;5;28;01mif\u001b[39;00m ind\u001b[38;5;241m.\u001b[39mfitness[ind\u001b[38;5;241m.\u001b[39mskill_factor\u001b[38;5;241m-\u001b[39m\u001b[38;5;241m1\u001b[39m] \u001b[38;5;241m>\u001b[39m new_ind\u001b[38;5;241m.\u001b[39mfitness[new_ind\u001b[38;5;241m.\u001b[39mskill_factor\u001b[38;5;241m-\u001b[39m\u001b[38;5;241m1\u001b[39m]:\n\u001b[0;32m    257\u001b[0m     \u001b[38;5;28mself\u001b[39m\u001b[38;5;241m.\u001b[39mdiff_f\u001b[38;5;241m.\u001b[39mappend(ind\u001b[38;5;241m.\u001b[39mfitness[ind\u001b[38;5;241m.\u001b[39mskill_factor\u001b[38;5;241m-\u001b[39m\u001b[38;5;241m1\u001b[39m] \u001b[38;5;241m-\u001b[39m new_ind\u001b[38;5;241m.\u001b[39mfitness[new_ind\u001b[38;5;241m.\u001b[39mskill_factor\u001b[38;5;241m-\u001b[39m\u001b[38;5;241m1\u001b[39m])\n",
      "File \u001b[1;32mc:\\Users\\DELL\\OneDrive - Hanoi University of Science and Technology\\Documents\\Numerical Competition\\Searcher.py:244\u001b[0m, in \u001b[0;36mDE.pbest_ind\u001b[1;34m(self, pool, ind, cr, f, best)\u001b[0m\n\u001b[0;32m    242\u001b[0m new_ind\u001b[38;5;241m.\u001b[39mgenes \u001b[38;5;241m=\u001b[39m new_genes\n\u001b[0;32m    243\u001b[0m new_ind\u001b[38;5;241m.\u001b[39mskill_factor \u001b[38;5;241m=\u001b[39m ind\u001b[38;5;241m.\u001b[39mskill_factor\n\u001b[1;32m--> 244\u001b[0m \u001b[43mnew_ind\u001b[49m\u001b[38;5;241;43m.\u001b[39;49m\u001b[43mcal_fitness\u001b[49m\u001b[43m(\u001b[49m\u001b[38;5;28;43mself\u001b[39;49m\u001b[38;5;241;43m.\u001b[39;49m\u001b[43mprob\u001b[49m\u001b[43m)\u001b[49m\n\u001b[0;32m    245\u001b[0m \u001b[38;5;28;01mreturn\u001b[39;00m new_ind\n",
      "File \u001b[1;32mc:\\Users\\DELL\\OneDrive - Hanoi University of Science and Technology\\Documents\\Numerical Competition\\MFEAcode.py:58\u001b[0m, in \u001b[0;36mIndividual.cal_fitness\u001b[1;34m(self, probs)\u001b[0m\n\u001b[0;32m     56\u001b[0m \u001b[38;5;28;01mfor\u001b[39;00m i \u001b[38;5;129;01min\u001b[39;00m \u001b[38;5;28mrange\u001b[39m(\u001b[38;5;241m1\u001b[39m, \u001b[38;5;28mlen\u001b[39m(probs)\u001b[38;5;241m+\u001b[39m\u001b[38;5;241m1\u001b[39m):\n\u001b[0;32m     57\u001b[0m     \u001b[38;5;28;01mif\u001b[39;00m i \u001b[38;5;241m==\u001b[39m \u001b[38;5;28mself\u001b[39m\u001b[38;5;241m.\u001b[39mskill_factor:\n\u001b[1;32m---> 58\u001b[0m         \u001b[38;5;28mself\u001b[39m\u001b[38;5;241m.\u001b[39mfitness[i\u001b[38;5;241m-\u001b[39m\u001b[38;5;241m1\u001b[39m] \u001b[38;5;241m=\u001b[39m \u001b[43mprobs\u001b[49m\u001b[43m[\u001b[49m\u001b[43mi\u001b[49m\u001b[38;5;241;43m-\u001b[39;49m\u001b[38;5;241;43m1\u001b[39;49m\u001b[43m]\u001b[49m\u001b[43m(\u001b[49m\u001b[38;5;28;43mself\u001b[39;49m\u001b[38;5;241;43m.\u001b[39;49m\u001b[43mgenes\u001b[49m\u001b[43m)\u001b[49m\n\u001b[0;32m     59\u001b[0m         Parameter\u001b[38;5;241m.\u001b[39mFEs \u001b[38;5;241m=\u001b[39m Parameter\u001b[38;5;241m.\u001b[39mFEs \u001b[38;5;241m+\u001b[39m \u001b[38;5;241m1\u001b[39m\n\u001b[0;32m     60\u001b[0m         Parameter\u001b[38;5;241m.\u001b[39mFEl[i\u001b[38;5;241m-\u001b[39m\u001b[38;5;241m1\u001b[39m] \u001b[38;5;241m=\u001b[39m Parameter\u001b[38;5;241m.\u001b[39mFEl[i\u001b[38;5;241m-\u001b[39m\u001b[38;5;241m1\u001b[39m] \u001b[38;5;241m+\u001b[39m \u001b[38;5;241m1\u001b[39m\n",
      "File \u001b[1;32mc:\\Users\\DELL\\OneDrive - Hanoi University of Science and Technology\\Documents\\Numerical Competition\\GNBG.py:120\u001b[0m, in \u001b[0;36mGNBG.fitness_mfea\u001b[1;34m(self, X)\u001b[0m\n\u001b[0;32m    119\u001b[0m \u001b[38;5;28;01mdef\u001b[39;00m \u001b[38;5;21mfitness_mfea\u001b[39m(\u001b[38;5;28mself\u001b[39m, X):\n\u001b[1;32m--> 120\u001b[0m     \u001b[38;5;28;01mreturn\u001b[39;00m \u001b[38;5;28;43mself\u001b[39;49m\u001b[38;5;241;43m.\u001b[39;49m\u001b[43mfitness_of_ind\u001b[49m\u001b[43m(\u001b[49m\u001b[38;5;28;43mself\u001b[39;49m\u001b[38;5;241;43m.\u001b[39;49m\u001b[43mLB\u001b[49m\u001b[43m \u001b[49m\u001b[38;5;241;43m+\u001b[39;49m\u001b[43m \u001b[49m\u001b[43mnp\u001b[49m\u001b[38;5;241;43m.\u001b[39;49m\u001b[43marray\u001b[49m\u001b[43m(\u001b[49m\u001b[43mX\u001b[49m\u001b[43m)\u001b[49m\u001b[38;5;241;43m*\u001b[39;49m\u001b[43m(\u001b[49m\u001b[38;5;28;43mself\u001b[39;49m\u001b[38;5;241;43m.\u001b[39;49m\u001b[43mUB\u001b[49m\u001b[38;5;241;43m-\u001b[39;49m\u001b[38;5;28;43mself\u001b[39;49m\u001b[38;5;241;43m.\u001b[39;49m\u001b[43mLB\u001b[49m\u001b[43m)\u001b[49m\u001b[43m)\u001b[49m\n",
      "File \u001b[1;32mc:\\Users\\DELL\\OneDrive - Hanoi University of Science and Technology\\Documents\\Numerical Competition\\GNBG.py:99\u001b[0m, in \u001b[0;36mGNBG.fitness_of_ind\u001b[1;34m(self, X)\u001b[0m\n\u001b[0;32m     97\u001b[0m     a \u001b[38;5;241m=\u001b[39m Transform( inp\u001b[38;5;241m.\u001b[39mT  \u001b[38;5;241m@\u001b[39m  rot_mat[:,:,k],mu[k, :],omega[k,:])\n\u001b[0;32m     98\u001b[0m     b \u001b[38;5;241m=\u001b[39m Transform(rot_mat[:,:,k] \u001b[38;5;241m@\u001b[39m inp, mu[k, :], omega[k, :] )\n\u001b[1;32m---> 99\u001b[0m     f[\u001b[38;5;241m0\u001b[39m, k] \u001b[38;5;241m=\u001b[39m sigma[k] \u001b[38;5;241m+\u001b[39m (np\u001b[38;5;241m.\u001b[39mabs(a \u001b[38;5;241m@\u001b[39m \u001b[43mnp\u001b[49m\u001b[38;5;241;43m.\u001b[39;49m\u001b[43mdiag\u001b[49m\u001b[43m(\u001b[49m\u001b[43mhehe\u001b[49m\u001b[43m[\u001b[49m\u001b[43mk\u001b[49m\u001b[43m,\u001b[49m\u001b[43m \u001b[49m\u001b[43m:\u001b[49m\u001b[43m]\u001b[49m\u001b[43m)\u001b[49m \u001b[38;5;241m@\u001b[39m b))\u001b[38;5;241m*\u001b[39m\u001b[38;5;241m*\u001b[39mlamb[k]\n\u001b[0;32m    102\u001b[0m result \u001b[38;5;241m=\u001b[39m np\u001b[38;5;241m.\u001b[39mmin(f)\n\u001b[0;32m    104\u001b[0m     \u001b[38;5;66;03m# if GNBG['FE'] > GNBG['MaxEvals']:\u001b[39;00m\n\u001b[0;32m    105\u001b[0m     \u001b[38;5;66;03m#     return result, GNBG\u001b[39;00m\n\u001b[0;32m    106\u001b[0m     \n\u001b[1;32m   (...)\u001b[0m\n\u001b[0;32m    114\u001b[0m     \u001b[38;5;66;03m#         np.isinf(GNBG['AcceptanceReachPoint'])):\u001b[39;00m\n\u001b[0;32m    115\u001b[0m     \u001b[38;5;66;03m#     GNBG['AcceptanceReachPoint'] = GNBG['FE']\u001b[39;00m\n",
      "File \u001b[1;32mc:\\Users\\DELL\\AppData\\Local\\Programs\\Python\\Python312\\Lib\\site-packages\\numpy\\lib\\twodim_base.py:293\u001b[0m, in \u001b[0;36mdiag\u001b[1;34m(v, k)\u001b[0m\n\u001b[0;32m    291\u001b[0m \u001b[38;5;28;01mif\u001b[39;00m \u001b[38;5;28mlen\u001b[39m(s) \u001b[38;5;241m==\u001b[39m \u001b[38;5;241m1\u001b[39m:\n\u001b[0;32m    292\u001b[0m     n \u001b[38;5;241m=\u001b[39m s[\u001b[38;5;241m0\u001b[39m]\u001b[38;5;241m+\u001b[39m\u001b[38;5;28mabs\u001b[39m(k)\n\u001b[1;32m--> 293\u001b[0m     res \u001b[38;5;241m=\u001b[39m \u001b[43mzeros\u001b[49m\u001b[43m(\u001b[49m\u001b[43m(\u001b[49m\u001b[43mn\u001b[49m\u001b[43m,\u001b[49m\u001b[43m \u001b[49m\u001b[43mn\u001b[49m\u001b[43m)\u001b[49m\u001b[43m,\u001b[49m\u001b[43m \u001b[49m\u001b[43mv\u001b[49m\u001b[38;5;241;43m.\u001b[39;49m\u001b[43mdtype\u001b[49m\u001b[43m)\u001b[49m\n\u001b[0;32m    294\u001b[0m     \u001b[38;5;28;01mif\u001b[39;00m k \u001b[38;5;241m>\u001b[39m\u001b[38;5;241m=\u001b[39m \u001b[38;5;241m0\u001b[39m:\n\u001b[0;32m    295\u001b[0m         i \u001b[38;5;241m=\u001b[39m k\n",
      "\u001b[1;31mKeyboardInterrupt\u001b[0m: "
     ]
    },
    {
     "name": "stderr",
     "output_type": "stream",
     "text": [
      "Current fitness: 1: -98.90165316616695 :  98%|█████████▊| 489k/500k [04:20<00:05, 2.06kFEs/s]"
     ]
    }
   ],
   "source": [
    "from MFEAcode import *\n",
    "from EMEBI import *\n",
    "algorithm2 = EMEBI(name=\"EMEBI\", prob=[GNBG(24).fitness_mfea], gen_length=30, MAX_FES = 500000, phasethree=True, das_crossover=False, dynamic_pop=False)\n",
    "log2, pop2 = algorithm2.run()\n"
   ]
  },
  {
   "cell_type": "code",
   "execution_count": null,
   "metadata": {},
   "outputs": [],
   "source": [
    "plt.plot([y[1] for y in log2[0]])"
   ]
  },
  {
   "cell_type": "markdown",
   "metadata": {},
   "source": [
    "## 2. DE"
   ]
  },
  {
   "cell_type": "code",
   "execution_count": null,
   "metadata": {},
   "outputs": [],
   "source": [
    "# from DE import DE"
   ]
  },
  {
   "cell_type": "code",
   "execution_count": null,
   "metadata": {},
   "outputs": [],
   "source": [
    "# DE(17, MAX_FES=500000)"
   ]
  }
 ],
 "metadata": {
  "kernelspec": {
   "display_name": "Python 3",
   "language": "python",
   "name": "python3"
  },
  "language_info": {
   "codemirror_mode": {
    "name": "ipython",
    "version": 3
   },
   "file_extension": ".py",
   "mimetype": "text/x-python",
   "name": "python",
   "nbconvert_exporter": "python",
   "pygments_lexer": "ipython3",
   "version": "3.12.2"
  }
 },
 "nbformat": 4,
 "nbformat_minor": 2
}
