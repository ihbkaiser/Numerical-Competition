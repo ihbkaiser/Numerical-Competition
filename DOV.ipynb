{
 "cells": [
  {
   "cell_type": "code",
   "execution_count": 1,
   "metadata": {},
   "outputs": [],
   "source": [
    "import numpy as np \n",
    "from GNBG import GNBG"
   ]
  },
  {
   "cell_type": "code",
   "execution_count": 2,
   "metadata": {},
   "outputs": [
    {
     "name": "stdout",
     "output_type": "stream",
     "text": [
      "ID: 16\n",
      "Optimal value:  -5000\n"
     ]
    }
   ],
   "source": [
    "probs = GNBG(16)\n",
    "f = probs.fitness_mfea"
   ]
  },
  {
   "cell_type": "code",
   "execution_count": 3,
   "metadata": {},
   "outputs": [],
   "source": [
    "def DeltaDifference(X1, X2, f):\n",
    "    P1 = np.array([0.0]*probs.dim)\n",
    "    P2 = P1.copy()\n",
    "    P2[X1] = 1\n",
    "    delta1 = f(P2) - f(P1)\n",
    "    P3 = P1.copy()\n",
    "    P4 = P2.copy()\n",
    "    P3[X2] = 0.5\n",
    "    P4[X2] = 0.5\n",
    "    delta2 = f(P4) - f(P3)\n",
    "    diff = abs(delta1 - delta2)\n",
    "    return diff\n"
   ]
  },
  {
   "cell_type": "code",
   "execution_count": 4,
   "metadata": {},
   "outputs": [],
   "source": [
    "def detect_interdependent_variables(n, f):\n",
    "    status = [0] * n\n",
    "    dim = list(range(0, n))\n",
    "\n",
    "    epsilon = 1e-5  # small positive number\n",
    "\n",
    "    for k in range(n):\n",
    "        X1 = k\n",
    "        X2 = [x for x in dim if x != X1]\n",
    "        diff = DeltaDifference(X1, X2, f)\n",
    "\n",
    "        if diff > epsilon:\n",
    "            status[k] = 1\n",
    "\n",
    "    return status\n",
    "\n"
   ]
  },
  {
   "cell_type": "code",
   "execution_count": 5,
   "metadata": {},
   "outputs": [],
   "source": [
    "def build_interaction_matrix(n, f, status):\n",
    "    k = 0\n",
    "    status_c = status.copy()\n",
    "    status_r = status.copy()\n",
    "    Omega = np.zeros((n, n))\n",
    "    epsilon = 1e-5 \n",
    "    for i in range(n):\n",
    "        if status_r[i] == 1:\n",
    "            k += 1\n",
    "            for j in range(n):\n",
    "                if status_c[j] ==1:\n",
    "                    X1 = i\n",
    "                    X2 = j\n",
    "                    diff = DeltaDifference(X1,X2,f)\n",
    "                    if diff > epsilon:\n",
    "                        Omega[i,j] = 1\n",
    "                        status_r[j] = 0\n",
    "    return Omega"
   ]
  },
  {
   "cell_type": "code",
   "execution_count": 6,
   "metadata": {},
   "outputs": [
    {
     "name": "stdout",
     "output_type": "stream",
     "text": [
      "[[1. 0. 0. 0. 0. 0. 0. 0. 0. 0. 0. 0. 0. 0. 0. 1.]\n",
      " [1. 1. 1. 1. 1. 1. 1. 1. 1. 1. 1. 1. 1. 1. 1. 1.]\n",
      " [0. 0. 0. 0. 0. 0. 0. 0. 0. 0. 0. 0. 0. 0. 0. 0.]\n",
      " [0. 0. 0. 0. 0. 0. 0. 0. 0. 0. 0. 0. 0. 0. 0. 0.]\n",
      " [0. 0. 0. 0. 0. 0. 0. 0. 0. 0. 0. 0. 0. 0. 0. 0.]\n",
      " [0. 0. 0. 0. 0. 0. 0. 0. 0. 0. 0. 0. 0. 0. 0. 0.]\n",
      " [0. 0. 0. 0. 0. 0. 0. 0. 0. 0. 0. 0. 0. 0. 0. 0.]\n",
      " [0. 0. 0. 0. 0. 0. 0. 0. 0. 0. 0. 0. 0. 0. 0. 0.]\n",
      " [0. 0. 0. 0. 0. 0. 0. 0. 0. 0. 0. 0. 0. 0. 0. 0.]\n",
      " [0. 0. 0. 0. 0. 0. 0. 0. 0. 0. 0. 0. 0. 0. 0. 0.]\n",
      " [0. 0. 0. 0. 0. 0. 0. 0. 0. 0. 0. 0. 0. 0. 0. 0.]\n",
      " [0. 0. 0. 0. 0. 0. 0. 0. 0. 0. 0. 0. 0. 0. 0. 0.]\n",
      " [0. 0. 0. 0. 0. 0. 0. 0. 0. 0. 0. 0. 0. 0. 0. 0.]\n",
      " [0. 0. 0. 0. 0. 0. 0. 0. 0. 0. 0. 0. 0. 0. 0. 0.]\n",
      " [0. 0. 0. 0. 0. 0. 0. 0. 0. 0. 0. 0. 0. 0. 0. 0.]\n",
      " [0. 0. 0. 0. 0. 0. 0. 0. 0. 0. 0. 0. 0. 0. 0. 0.]]\n"
     ]
    }
   ],
   "source": [
    "status = detect_interdependent_variables(16, f)\n",
    "Omega = build_interaction_matrix(16, f, status)\n",
    "print(Omega)"
   ]
  },
  {
   "cell_type": "code",
   "execution_count": 7,
   "metadata": {},
   "outputs": [],
   "source": [
    "def perturb(genes, d, r0):\n",
    "    sample_genes = genes.copy()\n",
    "    sample_genes[d] += np.random.uniform(-r0, r0)\n",
    "    return sample_genes"
   ]
  },
  {
   "cell_type": "code",
   "execution_count": 37,
   "metadata": {},
   "outputs": [],
   "source": [
    "def brute_force_localsearch(f, genes):\n",
    "    r0 = 0.01\n",
    "    fit = f(genes)\n",
    "    for j in range(100):\n",
    "        for d in range(len(genes)):\n",
    "            new_genes1 = genes.copy()\n",
    "            new_genes2 = genes.copy()\n",
    "            new_genes1[d] = genes[d] + r0\n",
    "            new_genes2[d] = genes[d] - r0\n",
    "            if f(new_genes1) < fit or f(new_genes2) < fit:\n",
    "                print(\"Success\")\n",
    "                break\n",
    "        r0 += 0.05\n",
    "    print(\"End because end of iter\")\n",
    "\n"
   ]
  },
  {
   "cell_type": "code",
   "execution_count": 92,
   "metadata": {},
   "outputs": [
    {
     "name": "stdout",
     "output_type": "stream",
     "text": [
      "-4999.999999999976\n"
     ]
    }
   ],
   "source": [
    "from scipy.optimize import fmin_l_bfgs_b\n",
    "sol, fit, info = fmin_l_bfgs_b(f, np.random.rand(30), approx_grad=True, bounds=[(0,1)]*30, maxfun = 1000, factr=10)\n",
    "print(fit)"
   ]
  },
  {
   "cell_type": "code",
   "execution_count": 49,
   "metadata": {},
   "outputs": [
    {
     "data": {
      "text/plain": [
       "-4317.899999999976"
      ]
     },
     "execution_count": 49,
     "metadata": {},
     "output_type": "execute_result"
    }
   ],
   "source": [
    "fit"
   ]
  },
  {
   "cell_type": "code",
   "execution_count": 50,
   "metadata": {},
   "outputs": [
    {
     "data": {
      "text/plain": [
       "array([0.34186605, 0.41741397, 0.80249395, 0.21230955, 0.65385809,\n",
       "       0.23586433, 0.52653222, 0.11463062, 0.73142346, 0.33022027,\n",
       "       0.31243732, 0.57144443, 0.43134341, 0.8556758 , 0.74591303,\n",
       "       0.70064968, 0.37911867, 0.63075319, 0.56271169, 0.10229626,\n",
       "       0.3858158 , 0.65271753, 0.65745452, 0.6692198 , 0.29696885,\n",
       "       0.19933865, 0.11491783, 0.79083348, 0.19707476, 0.54777358])"
      ]
     },
     "execution_count": 50,
     "metadata": {},
     "output_type": "execute_result"
    }
   ],
   "source": [
    "sol"
   ]
  },
  {
   "cell_type": "markdown",
   "metadata": {},
   "source": [
    "array([0.1000915 , 0.37644858, 0.2635618 , 0.54695186, 0.35073934,\n",
    "       0.13124382, 0.86631162, 0.76770053, 0.32435519, 0.33489132,\n",
    "       0.26930249, 0.21738286, 0.65552013, 0.51191128, 0.21142108,\n",
    "       0.37821269, 0.70075395, 0.87187203, 0.45992971, 0.55894359,\n",
    "       0.80875368, 0.84354978, 0.84607637, 0.83841962, 0.12264518,\n",
    "       0.7736247 , 0.54882417, 0.41028851, 0.14793414, 0.67039118])"
   ]
  },
  {
   "cell_type": "code",
   "execution_count": 39,
   "metadata": {},
   "outputs": [
    {
     "name": "stdout",
     "output_type": "stream",
     "text": [
      "End because end of iter\n"
     ]
    }
   ],
   "source": [
    "brute_force_localsearch(f, sol)"
   ]
  }
 ],
 "metadata": {
  "kernelspec": {
   "display_name": "Python 3",
   "language": "python",
   "name": "python3"
  },
  "language_info": {
   "codemirror_mode": {
    "name": "ipython",
    "version": 3
   },
   "file_extension": ".py",
   "mimetype": "text/x-python",
   "name": "python",
   "nbconvert_exporter": "python",
   "pygments_lexer": "ipython3",
   "version": "3.12.2"
  }
 },
 "nbformat": 4,
 "nbformat_minor": 2
}
