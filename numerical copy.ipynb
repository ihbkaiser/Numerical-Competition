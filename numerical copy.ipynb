{
 "cells": [
  {
   "cell_type": "markdown",
   "metadata": {},
   "source": [
    "# Fitness function"
   ]
  },
  {
   "cell_type": "code",
   "execution_count": 1,
   "metadata": {},
   "outputs": [],
   "source": [
    "import scipy.io as scio\n",
    "import numpy as np"
   ]
  },
  {
   "cell_type": "markdown",
   "metadata": {},
   "source": [
    "### Change the function to calculate fitness here"
   ]
  },
  {
   "cell_type": "markdown",
   "metadata": {},
   "source": [
    "In each GNBG problem file, the author also provides the optimal value along with the corresponding solution. Thereby, we can check whether the fitness function code is correct."
   ]
  },
  {
   "cell_type": "code",
   "execution_count": 2,
   "metadata": {},
   "outputs": [],
   "source": [
    "def Transform(X, Alpha, Beta):\n",
    "    Y = X.copy()\n",
    "    tmp = (X > 0)\n",
    "    Y[tmp] = np.log(X[tmp])\n",
    "    Y[tmp] = np.exp(Y[tmp] + Alpha[0] * (np.sin(Beta[0] * Y[tmp]) + np.sin(Beta[1] * Y[tmp])))\n",
    "    \n",
    "    tmp = (X < 0)\n",
    "    Y[tmp] = np.log(-X[tmp])\n",
    "    Y[tmp] = -np.exp(Y[tmp] + Alpha[1] * (np.sin(Beta[2] * Y[tmp]) + np.sin(Beta[3] * Y[tmp])))\n",
    "    \n",
    "    return Y"
   ]
  },
  {
   "cell_type": "markdown",
   "metadata": {},
   "source": [
    "### Get parameters"
   ]
  },
  {
   "cell_type": "markdown",
   "metadata": {},
   "source": [
    "# Algorithm"
   ]
  },
  {
   "cell_type": "markdown",
   "metadata": {},
   "source": [
    "### Here, two algorithms MFEA and DE are temporarily presented. The MFEA code here has been verified, while the DE code is rewritten from the official matlab code of the organizers."
   ]
  },
  {
   "cell_type": "markdown",
   "metadata": {},
   "source": [
    "## 1. MFEA\n",
    "MFEA is a multifactorial optimization algorithm, so you should pass at least 2 functions to it to process."
   ]
  },
  {
   "cell_type": "markdown",
   "metadata": {},
   "source": [
    "Note that, in this MFEA code, each individual is a list , while the fitness_of_ind function receives an np.array as an argument, so you need to pass the np.array version of the individual when using this code."
   ]
  },
  {
   "cell_type": "code",
   "execution_count": 3,
   "metadata": {},
   "outputs": [],
   "source": [
    "class GNBG:\n",
    "    def __init__(self, i):\n",
    "        # get file path './fi.mat/' \n",
    "        self.idx = i\n",
    "        self.file_path = './f' + str(i) + '.mat'\n",
    "        self.GNBG = self.get_GNBG_from_path(self.file_path)\n",
    "        self.LB = self.GNBG['MinCoordinate'][0][0][0][0]\n",
    "        self.UB = self.GNBG['MaxCoordinate'][0][0][0][0]\n",
    "        self.dim = self.GNBG['Dimension'][0][0][0][0]\n",
    "        self.num_com = self.GNBG['o'][0][0][0][0]\n",
    "        self.opt_value = self.GNBG['OptimumValue'][0][0][0][0]\n",
    "        self.opt_position = self.GNBG['OptimumPosition'][0][0]\n",
    "        self.FE = 0\n",
    "        self.max_FE = 0\n",
    "    def get_GNBG_from_path(self, file_path):\n",
    "        data = scio.loadmat(file_path)\n",
    "        GNBG = data['GNBG']\n",
    "        print(\"ID:\", self.idx)\n",
    "        print(\"Optimal value: \", GNBG['OptimumValue'][0][0][0][0])\n",
    "        # print(\"Num components: \", GNBG['o'][0][0][0][0])\n",
    "        # print(\"Dimension: \", GNBG['Dimension'][0][0][0][0])\n",
    "        # print(\"LB: \", GNBG['MinCoordinate'][0][0][0][0])\n",
    "        # print(\"UB: \", GNBG['MaxCoordinate'][0][0][0][0])\n",
    "        return GNBG\n",
    "    def check(self):\n",
    "        ind = self.fitness_of_ind(self.opt_position)\n",
    "        val = self.opt_value\n",
    "        print(\"Fitness of our code\", ind)\n",
    "        print(\"Fitness of the author\", val)\n",
    "    def fitness_of_pop(self, X):\n",
    "        '''\n",
    "        Input : A matrix of size (N,d), \n",
    "        N: number of individuals, d: number of dimensions, \n",
    "        kth row (1<=k<=N) represents kth individual vector.\n",
    "        Output: a matrix (N,1) representing the fitness of N individuals.\n",
    "\n",
    "        '''\n",
    "        ### read the MATLAB file and call a few indices to get the same shape as the original competition file\n",
    "        num_com = self.GNBG['o'][0][0][0][0]\n",
    "        dim = self.GNBG['Dimension'][0][0][0][0]\n",
    "        min_pos = self.GNBG['Component_MinimumPosition'][0][0].reshape(num_com, dim)\n",
    "        rot_mat = self.GNBG['RotationMatrix'][0][0].reshape(dim,dim,num_com)\n",
    "        sigma = self.GNBG['ComponentSigma'][0,0].reshape(num_com,1)\n",
    "        hehe = self.GNBG['Component_H'][0,0].reshape(num_com,dim)\n",
    "        mu = self.GNBG['Mu'][0][0].reshape(num_com,2)\n",
    "        omega = self.GNBG['Omega'][0][0].reshape(num_com,4)\n",
    "        lamb = self.GNBG['lambda'][0][0].reshape(num_com,1)\n",
    "        SolutionNumber, _ = X.shape\n",
    "        result = np.empty((SolutionNumber, 1))\n",
    "        ### Converts the input vector format and returns the fitness list of individuals\n",
    "        for jj in range(SolutionNumber):\n",
    "            self.FE = self.FE + 1\n",
    "            x = X[jj, :].reshape(-1,1)\n",
    "            f = np.empty((1, num_com))\n",
    "            \n",
    "            for k in range(num_com):\n",
    "                inp = x - min_pos[k,:].reshape(-1,1)\n",
    "                a = Transform( inp.T  @  rot_mat[:,:,k] , mu[k,:], omega[k,:])\n",
    "                b = Transform(rot_mat[:,:,k] @ inp, mu[k,:], omega[k,:] )\n",
    "                f[0, k] = sigma[k] + (np.abs(a @ np.diag(hehe[k, :]) @ b))**lamb[k]\n",
    "\n",
    "            result[jj] = np.min(f)\n",
    "            \n",
    "            # if GNBG['FE'] > GNBG['MaxEvals']:\n",
    "            #     return result, GNBG\n",
    "            \n",
    "            # GNBG['FE'] += 1\n",
    "            # GNBG['FEhistory'][GNBG['FE']] = result[jj]\n",
    "            \n",
    "            # if GNBG['BestFoundResult'] > result[jj]:\n",
    "            #     GNBG['BestFoundResult'] = result[jj]\n",
    "                \n",
    "            # if (abs(GNBG['FEhistory'][GNBG['FE']] - GNBG['OptimumValue']) < GNBG['AcceptanceThreshold'] and\n",
    "            #         np.isinf(GNBG['AcceptanceReachPoint'])):\n",
    "            #     GNBG['AcceptanceReachPoint'] = GNBG['FE']\n",
    "        \n",
    "        return result\n",
    "    def fitness_of_ind(self, X):\n",
    "        num_com = self.GNBG['o'][0][0][0][0]\n",
    "        dim = self.GNBG['Dimension'][0][0][0][0]\n",
    "        min_pos = self.GNBG['Component_MinimumPosition'][0][0].reshape(num_com, dim)\n",
    "        rot_mat = self.GNBG['RotationMatrix'][0][0].reshape(dim,dim,num_com)\n",
    "        sigma = self.GNBG['ComponentSigma'][0,0].reshape(num_com,1)\n",
    "        hehe = self.GNBG['Component_H'][0,0].reshape(num_com,dim)\n",
    "        mu = self.GNBG['Mu'][0][0].reshape(num_com,2)\n",
    "        omega = self.GNBG['Omega'][0][0].reshape(num_com,4)\n",
    "        lamb = self.GNBG['lambda'][0][0].reshape(num_com,1)\n",
    "        ### Converts the input vector format and returns the fitness list of individuals\n",
    "        x = X.reshape(-1,1)\n",
    "        f = np.empty((1, num_com))\n",
    "        for k in range(num_com):\n",
    "            inp = x - min_pos[k, :].reshape(-1,1)\n",
    "            a = Transform( inp.T  @  rot_mat[:,:,k],mu[k, :],omega[k,:])\n",
    "            b = Transform(rot_mat[:,:,k] @ inp, mu[k, :], omega[k, :] )\n",
    "            f[0, k] = sigma[k] + (np.abs(a @ np.diag(hehe[k, :]) @ b))**lamb[k]\n",
    "\n",
    "\n",
    "        result = np.min(f)\n",
    "            \n",
    "            # if GNBG['FE'] > GNBG['MaxEvals']:\n",
    "            #     return result, GNBG\n",
    "            \n",
    "            # GNBG['FE'] += 1\n",
    "            # GNBG['FEhistory'][GNBG['FE']] = result[jj]\n",
    "            \n",
    "            # if GNBG['BestFoundResult'] > result[jj]:\n",
    "            #     GNBG['BestFoundResult'] = result[jj]\n",
    "                \n",
    "            # if (abs(GNBG['FEhistory'][GNBG['FE']] - GNBG['OptimumValue']) < GNBG['AcceptanceThreshold'] and\n",
    "            #         np.isinf(GNBG['AcceptanceReachPoint'])):\n",
    "            #     GNBG['AcceptanceReachPoint'] = GNBG['FE']\n",
    "        \n",
    "        return result\n",
    "        \n",
    "    def fitness_mfea(self, X):\n",
    "        return self.fitness_of_ind(self.LB + np.array(X)*(self.UB-self.LB))"
   ]
  },
  {
   "cell_type": "code",
   "execution_count": 4,
   "metadata": {},
   "outputs": [
    {
     "name": "stdout",
     "output_type": "stream",
     "text": [
      "ID: 1\n",
      "Optimal value:  -1081.9837994003399\n",
      "ID: 2\n",
      "Optimal value:  -703.1328146165181\n"
     ]
    }
   ],
   "source": [
    "function_list = [GNBG(i).fitness_mfea for i in [1,2]]"
   ]
  },
  {
   "cell_type": "code",
   "execution_count": 5,
   "metadata": {},
   "outputs": [
    {
     "name": "stdout",
     "output_type": "stream",
     "text": [
      "ID: 20\n",
      "Optimal value:  -98.92802572031052\n",
      "ID: 21\n",
      "Optimal value:  -50\n",
      "Final result: 1: -100.0\n",
      "Final result: 2: -50.0\n"
     ]
    },
    {
     "ename": "KeyboardInterrupt",
     "evalue": "",
     "output_type": "error",
     "traceback": [
      "\u001b[1;31m---------------------------------------------------------------------------\u001b[0m",
      "\u001b[1;31mKeyboardInterrupt\u001b[0m                         Traceback (most recent call last)",
      "Cell \u001b[1;32mIn[5], line 6\u001b[0m\n\u001b[0;32m      4\u001b[0m function_list \u001b[38;5;241m=\u001b[39m [GNBG(i)\u001b[38;5;241m.\u001b[39mfitness_mfea, GNBG(i\u001b[38;5;241m+\u001b[39m\u001b[38;5;241m1\u001b[39m)\u001b[38;5;241m.\u001b[39m fitness_mfea]\n\u001b[0;32m      5\u001b[0m \u001b[38;5;28;01mfor\u001b[39;00m mode \u001b[38;5;129;01min\u001b[39;00m [\u001b[38;5;124m\"\u001b[39m\u001b[38;5;124mMFEA\u001b[39m\u001b[38;5;124m\"\u001b[39m, \u001b[38;5;124m\"\u001b[39m\u001b[38;5;124mMFEA2\u001b[39m\u001b[38;5;124m\"\u001b[39m, \u001b[38;5;124m\"\u001b[39m\u001b[38;5;124mDE\u001b[39m\u001b[38;5;124m\"\u001b[39m]:\n\u001b[1;32m----> 6\u001b[0m     \u001b[43mMFEA\u001b[49m\u001b[43m(\u001b[49m\u001b[43mprob\u001b[49m\u001b[43m \u001b[49m\u001b[38;5;241;43m=\u001b[39;49m\u001b[43m \u001b[49m\u001b[43mfunction_list\u001b[49m\u001b[43m,\u001b[49m\u001b[43m \u001b[49m\u001b[43mPOPSIZE\u001b[49m\u001b[43m \u001b[49m\u001b[38;5;241;43m=\u001b[39;49m\u001b[43m \u001b[49m\u001b[38;5;241;43m100\u001b[39;49m\u001b[38;5;241;43m*\u001b[39;49m\u001b[38;5;28;43mlen\u001b[39;49m\u001b[43m(\u001b[49m\u001b[43mfunction_list\u001b[49m\u001b[43m)\u001b[49m\u001b[43m \u001b[49m\u001b[43m,\u001b[49m\u001b[43m \u001b[49m\u001b[43mMAX_GEN\u001b[49m\u001b[38;5;241;43m=\u001b[39;49m\u001b[38;5;28;43;01mNone\u001b[39;49;00m\u001b[43m \u001b[49m\u001b[43m,\u001b[49m\u001b[43m \u001b[49m\u001b[43mMAX_FES\u001b[49m\u001b[43m \u001b[49m\u001b[38;5;241;43m=\u001b[39;49m\u001b[43m \u001b[49m\u001b[38;5;241;43m500000\u001b[39;49m\u001b[38;5;241;43m*\u001b[39;49m\u001b[38;5;28;43mlen\u001b[39;49m\u001b[43m(\u001b[49m\u001b[43mfunction_list\u001b[49m\u001b[43m)\u001b[49m\u001b[43m,\u001b[49m\u001b[43m \u001b[49m\u001b[43mrmp\u001b[49m\u001b[43m \u001b[49m\u001b[38;5;241;43m=\u001b[39;49m\u001b[43m \u001b[49m\u001b[38;5;241;43m0.3\u001b[39;49m\u001b[43m,\u001b[49m\u001b[43m \u001b[49m\u001b[43mgen_length\u001b[49m\u001b[43m \u001b[49m\u001b[38;5;241;43m=\u001b[39;49m\u001b[43m \u001b[49m\u001b[38;5;241;43m30\u001b[39;49m\u001b[43m,\u001b[49m\u001b[43m \u001b[49m\u001b[43mmode\u001b[49m\u001b[43m \u001b[49m\u001b[38;5;241;43m=\u001b[39;49m\u001b[43m \u001b[49m\u001b[43mmode\u001b[49m\u001b[43m)\u001b[49m\u001b[38;5;241;43m.\u001b[39;49m\u001b[43mrun\u001b[49m\u001b[43m(\u001b[49m\u001b[43m)\u001b[49m\n",
      "File \u001b[1;32mc:\\Users\\DELL\\OneDrive - Hanoi University of Science and Technology\\Documents\\IHB-Learning\\Numerical Competition\\MFEAcode.py:246\u001b[0m, in \u001b[0;36mMFEA.run\u001b[1;34m(self)\u001b[0m\n\u001b[0;32m    244\u001b[0m     offs \u001b[38;5;241m=\u001b[39m \u001b[38;5;28mself\u001b[39m\u001b[38;5;241m.\u001b[39mreproduction(pop, \u001b[38;5;28mself\u001b[39m\u001b[38;5;241m.\u001b[39mPOPSIZE)\n\u001b[0;32m    245\u001b[0m \u001b[38;5;28;01mif\u001b[39;00m(\u001b[38;5;28mself\u001b[39m\u001b[38;5;241m.\u001b[39mmode \u001b[38;5;241m==\u001b[39m \u001b[38;5;124m\"\u001b[39m\u001b[38;5;124mMFEA2\u001b[39m\u001b[38;5;124m\"\u001b[39m):\n\u001b[1;32m--> 246\u001b[0m     offs \u001b[38;5;241m=\u001b[39m \u001b[38;5;28;43mself\u001b[39;49m\u001b[38;5;241;43m.\u001b[39;49m\u001b[43mreproduction_MFEA_2\u001b[49m\u001b[43m(\u001b[49m\u001b[43mpop\u001b[49m\u001b[43m,\u001b[49m\u001b[43m \u001b[49m\u001b[38;5;28;43mself\u001b[39;49m\u001b[38;5;241;43m.\u001b[39;49m\u001b[43mPOPSIZE\u001b[49m\u001b[43m)\u001b[49m\n\u001b[0;32m    247\u001b[0m \u001b[38;5;28;01mif\u001b[39;00m(\u001b[38;5;28mself\u001b[39m\u001b[38;5;241m.\u001b[39mmode \u001b[38;5;241m==\u001b[39m \u001b[38;5;124m\"\u001b[39m\u001b[38;5;124mDE\u001b[39m\u001b[38;5;124m\"\u001b[39m):\n\u001b[0;32m    248\u001b[0m     offs \u001b[38;5;241m=\u001b[39m \u001b[38;5;28mself\u001b[39m\u001b[38;5;241m.\u001b[39mreproduction_DE(pop, \u001b[38;5;28mself\u001b[39m\u001b[38;5;241m.\u001b[39mPOPSIZE)\n",
      "File \u001b[1;32mc:\\Users\\DELL\\OneDrive - Hanoi University of Science and Technology\\Documents\\IHB-Learning\\Numerical Competition\\MFEAcode.py:342\u001b[0m, in \u001b[0;36mMFEA.reproduction_MFEA_2\u001b[1;34m(self, pop, SIZE)\u001b[0m\n\u001b[0;32m    340\u001b[0m \u001b[38;5;28;01mfor\u001b[39;00m i \u001b[38;5;129;01min\u001b[39;00m \u001b[38;5;28mrange\u001b[39m(\u001b[38;5;241m1\u001b[39m, \u001b[38;5;28mlen\u001b[39m(\u001b[38;5;28mself\u001b[39m\u001b[38;5;241m.\u001b[39mprob) \u001b[38;5;241m+\u001b[39m \u001b[38;5;241m1\u001b[39m):\n\u001b[0;32m    341\u001b[0m     \u001b[38;5;28;01mif\u001b[39;00m i \u001b[38;5;241m==\u001b[39m ind\u001b[38;5;241m.\u001b[39mskill_factor:\n\u001b[1;32m--> 342\u001b[0m         ind\u001b[38;5;241m.\u001b[39mfitness[i \u001b[38;5;241m-\u001b[39m \u001b[38;5;241m1\u001b[39m] \u001b[38;5;241m=\u001b[39m \u001b[38;5;28;43mself\u001b[39;49m\u001b[38;5;241;43m.\u001b[39;49m\u001b[43mprob\u001b[49m\u001b[43m[\u001b[49m\u001b[43mi\u001b[49m\u001b[43m \u001b[49m\u001b[38;5;241;43m-\u001b[39;49m\u001b[43m \u001b[49m\u001b[38;5;241;43m1\u001b[39;49m\u001b[43m]\u001b[49m\u001b[43m(\u001b[49m\u001b[43mind\u001b[49m\u001b[38;5;241;43m.\u001b[39;49m\u001b[43mgenes\u001b[49m\u001b[43m)\u001b[49m\n\u001b[0;32m    343\u001b[0m         Parameter\u001b[38;5;241m.\u001b[39mFEs \u001b[38;5;241m=\u001b[39m Parameter\u001b[38;5;241m.\u001b[39mFEs \u001b[38;5;241m+\u001b[39m \u001b[38;5;241m1\u001b[39m\n\u001b[0;32m    344\u001b[0m     \u001b[38;5;28;01melse\u001b[39;00m:\n",
      "Cell \u001b[1;32mIn[3], line 116\u001b[0m, in \u001b[0;36mGNBG.fitness_mfea\u001b[1;34m(self, X)\u001b[0m\n\u001b[0;32m    115\u001b[0m \u001b[38;5;28;01mdef\u001b[39;00m \u001b[38;5;21mfitness_mfea\u001b[39m(\u001b[38;5;28mself\u001b[39m, X):\n\u001b[1;32m--> 116\u001b[0m     \u001b[38;5;28;01mreturn\u001b[39;00m \u001b[38;5;28;43mself\u001b[39;49m\u001b[38;5;241;43m.\u001b[39;49m\u001b[43mfitness_of_ind\u001b[49m\u001b[43m(\u001b[49m\u001b[38;5;28;43mself\u001b[39;49m\u001b[38;5;241;43m.\u001b[39;49m\u001b[43mLB\u001b[49m\u001b[43m \u001b[49m\u001b[38;5;241;43m+\u001b[39;49m\u001b[43m \u001b[49m\u001b[43mnp\u001b[49m\u001b[38;5;241;43m.\u001b[39;49m\u001b[43marray\u001b[49m\u001b[43m(\u001b[49m\u001b[43mX\u001b[49m\u001b[43m)\u001b[49m\u001b[38;5;241;43m*\u001b[39;49m\u001b[43m(\u001b[49m\u001b[38;5;28;43mself\u001b[39;49m\u001b[38;5;241;43m.\u001b[39;49m\u001b[43mUB\u001b[49m\u001b[38;5;241;43m-\u001b[39;49m\u001b[38;5;28;43mself\u001b[39;49m\u001b[38;5;241;43m.\u001b[39;49m\u001b[43mLB\u001b[49m\u001b[43m)\u001b[49m\u001b[43m)\u001b[49m\n",
      "Cell \u001b[1;32mIn[3], line 93\u001b[0m, in \u001b[0;36mGNBG.fitness_of_ind\u001b[1;34m(self, X)\u001b[0m\n\u001b[0;32m     91\u001b[0m \u001b[38;5;28;01mfor\u001b[39;00m k \u001b[38;5;129;01min\u001b[39;00m \u001b[38;5;28mrange\u001b[39m(num_com):\n\u001b[0;32m     92\u001b[0m     inp \u001b[38;5;241m=\u001b[39m x \u001b[38;5;241m-\u001b[39m min_pos[k, :]\u001b[38;5;241m.\u001b[39mreshape(\u001b[38;5;241m-\u001b[39m\u001b[38;5;241m1\u001b[39m,\u001b[38;5;241m1\u001b[39m)\n\u001b[1;32m---> 93\u001b[0m     a \u001b[38;5;241m=\u001b[39m \u001b[43mTransform\u001b[49m\u001b[43m(\u001b[49m\u001b[43m \u001b[49m\u001b[43minp\u001b[49m\u001b[38;5;241;43m.\u001b[39;49m\u001b[43mT\u001b[49m\u001b[43m  \u001b[49m\u001b[38;5;241;43m@\u001b[39;49m\u001b[43m  \u001b[49m\u001b[43mrot_mat\u001b[49m\u001b[43m[\u001b[49m\u001b[43m:\u001b[49m\u001b[43m,\u001b[49m\u001b[43m:\u001b[49m\u001b[43m,\u001b[49m\u001b[43mk\u001b[49m\u001b[43m]\u001b[49m\u001b[43m,\u001b[49m\u001b[43mmu\u001b[49m\u001b[43m[\u001b[49m\u001b[43mk\u001b[49m\u001b[43m,\u001b[49m\u001b[43m \u001b[49m\u001b[43m:\u001b[49m\u001b[43m]\u001b[49m\u001b[43m,\u001b[49m\u001b[43momega\u001b[49m\u001b[43m[\u001b[49m\u001b[43mk\u001b[49m\u001b[43m,\u001b[49m\u001b[43m:\u001b[49m\u001b[43m]\u001b[49m\u001b[43m)\u001b[49m\n\u001b[0;32m     94\u001b[0m     b \u001b[38;5;241m=\u001b[39m Transform(rot_mat[:,:,k] \u001b[38;5;241m@\u001b[39m inp, mu[k, :], omega[k, :] )\n\u001b[0;32m     95\u001b[0m     f[\u001b[38;5;241m0\u001b[39m, k] \u001b[38;5;241m=\u001b[39m sigma[k] \u001b[38;5;241m+\u001b[39m (np\u001b[38;5;241m.\u001b[39mabs(a \u001b[38;5;241m@\u001b[39m np\u001b[38;5;241m.\u001b[39mdiag(hehe[k, :]) \u001b[38;5;241m@\u001b[39m b))\u001b[38;5;241m*\u001b[39m\u001b[38;5;241m*\u001b[39mlamb[k]\n",
      "Cell \u001b[1;32mIn[2], line 2\u001b[0m, in \u001b[0;36mTransform\u001b[1;34m(X, Alpha, Beta)\u001b[0m\n\u001b[0;32m      1\u001b[0m \u001b[38;5;28;01mdef\u001b[39;00m \u001b[38;5;21mTransform\u001b[39m(X, Alpha, Beta):\n\u001b[1;32m----> 2\u001b[0m     Y \u001b[38;5;241m=\u001b[39m X\u001b[38;5;241m.\u001b[39mcopy()\n\u001b[0;32m      3\u001b[0m     tmp \u001b[38;5;241m=\u001b[39m (X \u001b[38;5;241m>\u001b[39m \u001b[38;5;241m0\u001b[39m)\n\u001b[0;32m      4\u001b[0m     Y[tmp] \u001b[38;5;241m=\u001b[39m np\u001b[38;5;241m.\u001b[39mlog(X[tmp])\n",
      "\u001b[1;31mKeyboardInterrupt\u001b[0m: "
     ]
    }
   ],
   "source": [
    "from MFEAcode import MFEA \n",
    "\n",
    "for i in [20]:\n",
    "    function_list = [GNBG(i).fitness_mfea, GNBG(i+1). fitness_mfea]\n",
    "    for mode in [\"MFEA\", \"MFEA2\", \"DE\"]:\n",
    "        MFEA(prob = function_list, POPSIZE = 100*len(function_list) , MAX_GEN=None , MAX_FES = 500000*len(function_list), rmp = 0.3, gen_length = 30, mode = mode).run()"
   ]
  },
  {
   "cell_type": "code",
   "execution_count": null,
   "metadata": {},
   "outputs": [],
   "source": [
    "# from MFEAcode import MFEA \n",
    "# MFEA(prob = function_list, POPSIZE = 100*len(function_list) , MAX_GEN=None , MAX_FES = 500000*len(function_list), rmp = 0.3, gen_length = 30, mode = \"DE\").run()"
   ]
  },
  {
   "cell_type": "markdown",
   "metadata": {},
   "source": [
    "## 2. DE"
   ]
  },
  {
   "cell_type": "code",
   "execution_count": null,
   "metadata": {},
   "outputs": [],
   "source": [
    "# FEs = 0\n",
    "# def DE(idx):\n",
    "#     problem = GNBG(idx)\n",
    "#     threshold = 1e-8\n",
    "#     PopulationSize = 100\n",
    "#     LB = problem.LB \n",
    "#     UB = problem.UB \n",
    "#     dim = problem.dim\n",
    "#     X = LB + (UB - LB) * np.random.rand(PopulationSize, dim)\n",
    "#     fitness = problem.fitness_of_pop(X)\n",
    "#     Donor = np.empty((PopulationSize, dim))\n",
    "#     Cr = 0.9\n",
    "#     F = 0.5\n",
    "#     FEs = 0\n",
    "#     BestID = np.argmin(fitness)\n",
    "#     BestPosition = X[BestID,:]\n",
    "#     BestValue = fitness[BestID]\n",
    "#     while True:\n",
    "#         BestID = np.argmin(fitness)\n",
    "#         if fitness[BestID] < BestValue:\n",
    "#             BestPosition = X[BestID, :]\n",
    "#             BestValue = fitness[BestID]\n",
    "#         if(abs(BestValue - problem.opt_value) < threshold):\n",
    "#             print(f'at FE {problem.FE}, found best value : {BestValue}')\n",
    "#             break\n",
    "#         # Mutation :\n",
    "#         R = np.full((PopulationSize, 3), 1)\n",
    "#         for ii in range(PopulationSize):\n",
    "#             tmp = np.random.permutation(PopulationSize)\n",
    "#             tmp = tmp[tmp!=ii]\n",
    "#             R[ii,:] = tmp[:3]\n",
    "#         Donor = X[R[:,0],:] + F * ( X[R[:,1],:]  - X[R[:,2],:])\n",
    "#         # Crossover :\n",
    "#         OffspringPosition = X.copy()\n",
    "#         i = np.column_stack(((np.arange(PopulationSize)), np.random.randint(0, dim, size=PopulationSize)))\n",
    "#         OffspringPosition[i[:,0], i[:,1]] = Donor[i[:,0], i[:,1]]\n",
    "#         CrossoverBinomial = np.random.rand(PopulationSize, dim) < Cr\n",
    "#         OffspringPosition[CrossoverBinomial] = Donor[CrossoverBinomial]\n",
    "#         # Boundary Checking:\n",
    "#         LB_tmp1 = OffspringPosition < LB \n",
    "#         UB_tmp1 = OffspringPosition > UB \n",
    "#         LB_tmp2 = ((LB+X)*LB_tmp1)/2\n",
    "#         UB_tmp2 = ((UB+X)*UB_tmp1)/2\n",
    "#         OffspringPosition[LB_tmp1] = LB_tmp2[LB_tmp1]\n",
    "#         OffspringPosition[UB_tmp1] = UB_tmp2[UB_tmp1]\n",
    "#         OffspringFitness = problem.fitness_of_pop(OffspringPosition)\n",
    "#         better = OffspringFitness < fitness\n",
    "#         X[better.flatten()] = OffspringPosition[better.flatten()]\n",
    "#         fitness[better] = OffspringFitness[better]\n",
    "#         if problem.FE >= 500000:\n",
    "#             print(f'at FE {500000}, found best value: {BestValue}')\n",
    "#             FEs = 0\n",
    "#             break"
   ]
  },
  {
   "cell_type": "code",
   "execution_count": null,
   "metadata": {},
   "outputs": [],
   "source": [
    "# for i in range(1,25):\n",
    "#     DE(i)"
   ]
  }
 ],
 "metadata": {
  "kernelspec": {
   "display_name": "Python 3",
   "language": "python",
   "name": "python3"
  },
  "language_info": {
   "codemirror_mode": {
    "name": "ipython",
    "version": 3
   },
   "file_extension": ".py",
   "mimetype": "text/x-python",
   "name": "python",
   "nbconvert_exporter": "python",
   "pygments_lexer": "ipython3",
   "version": "3.11.3"
  }
 },
 "nbformat": 4,
 "nbformat_minor": 2
}
