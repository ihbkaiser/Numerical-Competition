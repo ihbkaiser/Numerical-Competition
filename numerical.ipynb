{
 "cells": [
  {
   "cell_type": "markdown",
   "metadata": {},
   "source": [
    "# Import functions and algorithms"
   ]
  },
  {
   "cell_type": "code",
   "execution_count": 1,
   "metadata": {},
   "outputs": [],
   "source": [
    "import scipy.io as scio\n",
    "import numpy as np\n",
    "from GNBG import GNBG \n",
    "from MFEAcode import *\n",
    "from DE import DE\n",
    "from EMEBI import *\n",
    "from Execute import *"
   ]
  },
  {
   "cell_type": "markdown",
   "metadata": {},
   "source": [
    "In each GNBG problem file, the author also provides the optimal value along with the corresponding solution. Thereby, we can check whether the fitness function code is correct."
   ]
  },
  {
   "cell_type": "markdown",
   "metadata": {},
   "source": [
    "### Get parameters"
   ]
  },
  {
   "cell_type": "markdown",
   "metadata": {},
   "source": [
    "# Algorithm"
   ]
  },
  {
   "cell_type": "markdown",
   "metadata": {},
   "source": [
    "### Here, two algorithms MFEA and DE are temporarily presented. The MFEA code here has been verified, while the DE code is rewritten from the official matlab code of the organizers."
   ]
  },
  {
   "cell_type": "markdown",
   "metadata": {},
   "source": [
    "## 1. MFEA\n",
    "MFEA is a multifactorial optimization algorithm, so you should pass at least 2 functions to it to process."
   ]
  },
  {
   "cell_type": "markdown",
   "metadata": {},
   "source": [
    "Note that, in this MFEA code, each individual is a list , while the fitness_of_ind function receives an np.array as an argument, so you need to pass the np.array version of the individual when using this code."
   ]
  },
  {
   "cell_type": "code",
   "execution_count": 54,
   "metadata": {},
   "outputs": [
    {
     "name": "stdout",
     "output_type": "stream",
     "text": [
      "['ASCMADEthird', 'AX', 'AdaptiveDiscreteOnePlusOne', 'AlmostRotationInvariantDE', 'AlmostRotationInvariantDEAndBigPop', 'AnisoEMNA', 'AnisoEMNATBPSA', 'AnisotropicAdaptiveDiscreteOnePlusOne', 'AvgHammersleySearch', 'AvgHammersleySearchPlusMiddlePoint', 'AvgMetaRecenteringNoHull', 'AvgRandomSearch', 'BAR', 'BAR2', 'BAR3', 'BAR4', 'BFGS', 'BFGSCMA', 'BFGSCMAPlus', 'BO', 'BOBYQA', 'BOSplit', 'BPRotationInvariantDE', 'BayesOptimBO', 'CM', 'CMA', 'CMAbounded', 'CMApara', 'CMAsmall', 'CMAstd', 'CMAtuning', 'CMandAS2', 'CMandAS3', 'CSEC', 'CSEC10', 'CSEC4', 'CSEC5', 'CSEC6', 'CSEC7', 'CSEC8', 'CSEC9', 'Carola1', 'Carola10', 'Carola11', 'Carola13', 'Carola14', 'Carola15', 'Carola2', 'Carola3', 'Carola4', 'Carola5', 'Carola6', 'Carola7', 'Carola8', 'Carola9', 'CauchyLHSSearch', 'CauchyOnePlusOne', 'CauchyRandomSearch', 'CauchyScrHammersleySearch', 'ChainBOwithLHS', 'ChainBOwithLHS30', 'ChainBOwithLHSdim', 'ChainBOwithLHSsqrt', 'ChainBOwithMetaRecentering', 'ChainBOwithMetaRecentering30', 'ChainBOwithMetaRecenteringdim', 'ChainBOwithMetaRecenteringsqrt', 'ChainBOwithMetaTuneRecentering', 'ChainBOwithMetaTuneRecentering30', 'ChainBOwithMetaTuneRecenteringdim', 'ChainBOwithMetaTuneRecenteringsqrt', 'ChainBOwithR', 'ChainBOwithR30', 'ChainBOwithRdim', 'ChainBOwithRsqrt', 'ChainCMAPowell', 'ChainCMASQP', 'ChainCMAwithLHS', 'ChainCMAwithLHS30', 'ChainCMAwithLHSdim', 'ChainCMAwithLHSsqrt', 'ChainCMAwithMetaRecentering', 'ChainCMAwithMetaRecentering30', 'ChainCMAwithMetaRecenteringdim', 'ChainCMAwithMetaRecenteringsqrt', 'ChainCMAwithR', 'ChainCMAwithR30', 'ChainCMAwithRdim', 'ChainCMAwithRsqrt', 'ChainDE', 'ChainDEwithLHS', 'ChainDEwithLHS30', 'ChainDEwithLHSdim', 'ChainDEwithLHSsqrt', 'ChainDEwithMetaRecentering', 'ChainDEwithMetaRecentering30', 'ChainDEwithMetaRecenteringdim', 'ChainDEwithMetaRecenteringsqrt', 'ChainDEwithMetaTuneRecentering', 'ChainDEwithMetaTuneRecentering30', 'ChainDEwithMetaTuneRecenteringdim', 'ChainDEwithMetaTuneRecenteringsqrt', 'ChainDEwithR', 'ChainDEwithR30', 'ChainDEwithRdim', 'ChainDEwithRsqrt', 'ChainDSPowell', 'ChainDiagonalCMAPowell', 'ChainMetaModelDSSQP', 'ChainMetaModelPowell', 'ChainMetaModelSQP', 'ChainNaiveTBPSACMAPowell', 'ChainNaiveTBPSAPowell', 'ChainPSOwithLHS', 'ChainPSOwithLHS30', 'ChainPSOwithLHSdim', 'ChainPSOwithLHSsqrt', 'ChainPSOwithMetaRecentering', 'ChainPSOwithMetaRecentering30', 'ChainPSOwithMetaRecenteringdim', 'ChainPSOwithMetaRecenteringsqrt', 'ChainPSOwithR', 'ChainPSOwithR30', 'ChainPSOwithRdim', 'ChainPSOwithRsqrt', 'ChoiceBase', 'CmaFmin2', 'Cobyla', 'DE', 'DS14', 'DS2', 'DS3p', 'DS4', 'DS5', 'DS6', 'DS8', 'DS9', 'DSbase', 'DSproba', 'DSproba2', 'DSproba3', 'DSproba4', 'DSproba5', 'DSproba6', 'DSproba7', 'DSproba8', 'DSproba9', 'DSsubspace', 'DiagonalCMA', 'DiscreteBSOOnePlusOne', 'DiscreteDE', 'DiscreteDoerrOnePlusOne', 'DiscreteLengler2OnePlusOne', 'DiscreteLengler3OnePlusOne', 'DiscreteLenglerFourthOnePlusOne', 'DiscreteLenglerHalfOnePlusOne', 'DiscreteLenglerOnePlusOne', 'DiscreteLenglerOnePlusOneT', 'DiscreteNoisy13Splits', 'DiscreteNoisyInfSplits', 'DiscreteOnePlusOne', 'DiscreteOnePlusOneT', 'DoubleFastGADiscreteOnePlusOne', 'DoubleFastGAOptimisticNoisyDiscreteOnePlusOne', 'ECMA', 'EDA', 'ES', 'F2SQPCMA', 'F3SQPCMA', 'FCMA', 'FCMAp13', 'FCMAs03', 'FCarola6', 'FSQPCMA', 'FastGADiscreteOnePlusOne', 'FastGANoisyDiscreteOnePlusOne', 'FastGAOptimisticNoisyDiscreteOnePlusOne', 'ForceMultiCobyla', 'GeneticDE', 'HSCMA', 'HSDE', 'HSMetaModel', 'HSNeuralCMA', 'HSRFCMA', 'HSSVMCMA', 'HaltonSearch', 'HaltonSearchPlusMiddlePoint', 'HammersleySearch', 'HammersleySearchPlusMiddlePoint', 'HullAvgMetaRecentering', 'HullAvgMetaTuneRecentering', 'HullCenterHullAvgCauchyLHSSearch', 'HullCenterHullAvgCauchyScrHammersleySearch', 'HullCenterHullAvgLHSSearch', 'HullCenterHullAvgLargeHammersleySearch', 'HullCenterHullAvgRandomSearch', 'HullCenterHullAvgScrHaltonSearch', 'HullCenterHullAvgScrHaltonSearchPlusMiddlePoint', 'HullCenterHullAvgScrHammersleySearch', 'HullCenterHullAvgScrHammersleySearchPlusMiddlePoint', 'IsoEMNA', 'IsoEMNATBPSA', 'LBFGSB', 'LBO', 'LHSSearch', 'LPCMA', 'LQODE', 'LQOTPDE', 'LSCMA', 'LargeCMA', 'LargeDiagCMA', 'LargeHaltonSearch', 'LhsDE', 'LhsHSDE', 'LogBFGSCMA', 'LogBFGSCMAPlus', 'LogMultiBFGS', 'LogMultiBFGSPlus', 'LogSQPCMA', 'LogSQPCMAPlus', 'LognormalDiscreteOnePlusOne', 'MaxRecombiningDiscreteLenglerOnePlusOne', 'MemeticDE', 'MetaCMA', 'MetaCauchyRecentering', 'MetaModel', 'MetaModelDE', 'MetaModelDSproba', 'MetaModelDiagonalCMA', 'MetaModelFmin2', 'MetaModelOnePlusOne', 'MetaModelPSO', 'MetaModelQODE', 'MetaModelTwoPointsDE', 'MetaNGOpt10', 'MetaRecentering', 'MetaTuneRecentering', 'MicroCMA', 'MicroSPSA', 'MicroSQP', 'MidQRBO', 'MilliCMA', 'MinRecombiningDiscreteLenglerOnePlusOne', 'MiniDE', 'MiniLhsDE', 'MiniQrDE', 'MixDeterministicRL', 'MixES', 'MultiBFGS', 'MultiBFGSPlus', 'MultiCMA', 'MultiCobyla', 'MultiCobylaPlus', 'MultiDS', 'MultiDiscrete', 'MultiSQP', 'MultiSQPPlus', 'MultiScaleCMA', 'MutDE', 'NGDSRW', 'NGO', 'NGOpt', 'NGOpt10', 'NGOpt15', 'NGOpt16', 'NGOpt36', 'NGOpt39', 'NGOpt4', 'NGOpt8', 'NGOptBase', 'NGOptDSBase', 'NGOptF', 'NGOptF2', 'NGOptF3', 'NGOptF5', 'NGOptRW', 'NGOptSingle16', 'NGOptSingle25', 'NGOptSingle9', 'NLOPT_GN_AGS', 'NLOPT_GN_CRS2_LM', 'NLOPT_GN_DIRECT', 'NLOPT_GN_DIRECT_L', 'NLOPT_GN_ESCH', 'NLOPT_GN_ISRES', 'NLOPT_LN_BOBYQA', 'NLOPT_LN_COBYLA', 'NLOPT_LN_NELDERMEAD', 'NLOPT_LN_NEWUOA_BOUND', 'NLOPT_LN_PRAXIS', 'NLOPT_LN_SBPLX', 'NaiveAnisoEMNA', 'NaiveAnisoEMNATBPSA', 'NaiveIsoEMNA', 'NaiveIsoEMNATBPSA', 'NaiveTBPSA', 'NelderMead', 'NeuralMetaModel', 'NeuralMetaModelDE', 'NeuralMetaModelTwoPointsDE', 'NgDS', 'NgDS11', 'NgDS2', 'NgDS3', 'NgIoh', 'NgIoh10', 'NgIoh11', 'NgIoh12', 'NgIoh12b', 'NgIoh13', 'NgIoh13b', 'NgIoh14', 'NgIoh14b', 'NgIoh15', 'NgIoh15b', 'NgIoh16', 'NgIoh17', 'NgIoh18', 'NgIoh19', 'NgIoh2', 'NgIoh20', 'NgIoh21', 'NgIoh3', 'NgIoh4', 'NgIoh5', 'NgIoh6', 'NgIoh7', 'NgIoh8', 'NgIoh9', 'NgIohRW2', 'NgLn', 'Noisy13Splits', 'NoisyBandit', 'NoisyDE', 'NoisyDiscreteOnePlusOne', 'NoisyInfSplits', 'NoisyOnePlusOne', 'NoisyRL1', 'NoisyRL2', 'NoisyRL3', 'NonNSGAIIES', 'ORandomSearch', 'OScrHammersleySearch', 'OldCMA', 'OnePlusLambda', 'OnePlusOne', 'OnePointDE', 'OnePtRecombiningDiscreteLenglerOnePlusOne', 'OpoDE', 'OpoTinyDE', 'OptimisticDiscreteOnePlusOne', 'OptimisticNoisyOnePlusOne', 'PCABO', 'PCABO80', 'PCABO95DoE20', 'PCarola6', 'PSO', 'ParaPortfolio', 'ParametrizationDE', 'PolyCMA', 'Portfolio', 'PortfolioDiscreteOnePlusOne', 'PortfolioDiscreteOnePlusOneT', 'PortfolioNoisyDiscreteOnePlusOne', 'PortfolioOptimisticNoisyDiscreteOnePlusOne', 'Powell', 'PymooBIPOP', 'PymooCMAES', 'PymooNSGA2', 'QNDE', 'QODE', 'QOPSO', 'QORandomSearch', 'QORealSpacePSO', 'QOScrHammersleySearch', 'QOTPDE', 'QRBO', 'QrDE', 'RBFGS', 'RBO', 'RCobyla', 'RFMetaModel', 'RFMetaModelDE', 'RFMetaModelOnePlusOne', 'RFMetaModelPSO', 'RFMetaModelTwoPointsDE', 'RLSOnePlusOne', 'RPowell', 'RSQP', 'RandRecombiningDiscreteLenglerOnePlusOne', 'RandRecombiningDiscreteLognormalOnePlusOne', 'RandomScaleRandomSearch', 'RandomScaleRandomSearchPlusMiddlePoint', 'RandomSearch', 'RandomSearchPlusMiddlePoint', 'RealSpacePSO', 'RecES', 'RecMixES', 'RecMutDE', 'RecombiningDiscreteLanglerOnePlusOne', 'RecombiningDiscreteLognormalOnePlusOne', 'RecombiningGA', 'RecombiningOptimisticNoisyDiscreteOnePlusOne', 'RecombiningPortfolioDiscreteOnePlusOne', 'RecombiningPortfolioOptimisticNoisyDiscreteOnePlusOne', 'RescaleScrHammersleySearch', 'RescaledCMA', 'RotatedRecombiningGA', 'RotatedTwoPointsDE', 'RotationInvariantDE', 'SADiscreteLenglerOnePlusOneExp09', 'SADiscreteLenglerOnePlusOneExp099', 'SADiscreteLenglerOnePlusOneExp09Auto', 'SADiscreteLenglerOnePlusOneLin1', 'SADiscreteLenglerOnePlusOneLin100', 'SADiscreteLenglerOnePlusOneLinAuto', 'SADiscreteOnePlusOneExp09', 'SADiscreteOnePlusOneExp099', 'SADiscreteOnePlusOneLin100', 'SDiagonalCMA', 'SMAC3', 'SODE', 'SOPSO', 'SPQODE', 'SPSA', 'SQOPSO', 'SQORealSpacePSO', 'SQP', 'SQPCMA', 'SQPCMAPlus', 'SVMMetaModel', 'SVMMetaModelDE', 'SVMMetaModelPSO', 'SVMMetaModelTwoPointsDE', 'ScrHaltonSearch', 'ScrHaltonSearchPlusMiddlePoint', 'ScrHammersleySearch', 'ScrHammersleySearchPlusMiddlePoint', 'Shiwa', 'SmoothAdaptiveDiscreteOnePlusOne', 'SmoothDiscreteLenglerOnePlusOne', 'SmoothDiscreteLognormalOnePlusOne', 'SmoothDiscreteOnePlusOne', 'SmoothElitistRandRecombiningDiscreteLanglerOnePlusOne', 'SmoothElitistRandRecombiningDiscreteLognormalOnePlusOne', 'SmoothElitistRecombiningDiscreteLanglerOnePlusOne', 'SmoothLognormalDiscreteOnePlusOne', 'SmoothPortfolioDiscreteOnePlusOne', 'SmoothRecombiningDiscreteLanglerOnePlusOne', 'SmoothRecombiningPortfolioDiscreteOnePlusOne', 'SparseDiscreteOnePlusOne', 'SparseDoubleFastGADiscreteOnePlusOne', 'SpecialRL', 'SqrtBFGSCMA', 'SqrtBFGSCMAPlus', 'SqrtMultiBFGS', 'SqrtMultiBFGSPlus', 'SqrtSQPCMA', 'SqrtSQPCMAPlus', 'StupidRandom', 'SuperSmoothDiscreteLenglerOnePlusOne', 'SuperSmoothElitistRecombiningDiscreteLanglerOnePlusOne', 'SuperSmoothRecombiningDiscreteLanglerOnePlusOne', 'SuperSmoothRecombiningDiscreteLognormalOnePlusOne', 'TBPSA', 'TEAvgCauchyLHSSearch', 'TEAvgCauchyScrHammersleySearch', 'TEAvgLHSSearch', 'TEAvgRandomSearch', 'TEAvgScrHammersleySearch', 'TEAvgScrHammersleySearchPlusMiddlePoint', 'TinyCMA', 'TinyLhsDE', 'TinyQODE', 'TinySPSA', 'TinySQP', 'TripleCMA', 'TwoPointsDE', 'TwoPtRecombiningDiscreteLenglerOnePlusOne', 'UltraSmoothDiscreteLenglerOnePlusOne', 'UltraSmoothElitistRecombiningDiscreteLanglerOnePlusOne', 'UltraSmoothElitistRecombiningDiscreteLognormalOnePlusOne', 'UltraSmoothRecombiningDiscreteLanglerOnePlusOne', 'VLPCMA', 'VastDE', 'VastLengler', 'VoronoiDE', 'Wiz', 'Zero', 'cGA', 'discretememetic', 'pCarola6', 'pysot']\n"
     ]
    }
   ],
   "source": [
    "print(sorted(ng.optimizers.registry.keys()))"
   ]
  },
  {
   "cell_type": "code",
   "execution_count": 6,
   "metadata": {},
   "outputs": [
    {
     "name": "stdout",
     "output_type": "stream",
     "text": [
      "ID: 1\n",
      "Optimal value:  -1081.9837994003399\n"
     ]
    },
    {
     "name": "stdout",
     "output_type": "stream",
     "text": [
      "04/09/2024 17:24:04,709 - [PCABO (1456350532176).INFO] -- asking 5 points (using DoE):\n",
      "04/09/2024 17:24:04,716 - [PCABO (1456350532176).INFO] -- #1 - [0.3632634630257397, 0.5060613576396891, 0.9076565144923673, 0.7889875725971315, 0.1734074322881532, 0.22803260404631054, 0.20093249940505906, 0.0560905833777332, 0.47538562017389513, 0.2727212127967606, 0.22977695712122065, 0.7641630569410256, 0.724726773680281, 0.6085019162551759, 0.8637420769523989, 0.1914138016384031, 0.2375469791991353, 0.46866927545092163, 0.9856459264100861, 0.17408787169217804, 0.1892256681987207, 0.551323193914734, 0.19996952723561143, 0.9269958093145182, 0.2367824344721616, 0.03553975668143593, 0.07848912254596835, 0.342611526079622, 0.07679979473248931, 0.8032347017577542]\n",
      "04/09/2024 17:24:04,719 - [PCABO (1456350532176).INFO] -- #2 - [0.7282832701403135, 0.16510763804121265, 0.7464734801936818, 0.3842747576931264, 0.7483826105893743, 0.4770946286749602, 0.7560765224626869, 0.3193410390058733, 0.7775663741609866, 0.5487460031944483, 0.1988971626905304, 0.9985048205469199, 0.025953448025466393, 0.35817533114996025, 0.2764802939301674, 0.3789330610059065, 0.09844158196034448, 0.3980588255689914, 0.16964540074915233, 0.9200119897951639, 0.5054260922150328, 0.665530555377596, 0.8769034040338226, 0.48116956048896237, 0.6308855520531976, 0.41566361091541165, 0.5492891092376525, 0.6083341698053486, 0.2824033397267219, 0.2029639168968964]\n",
      "04/09/2024 17:24:04,719 - [PCABO (1456350532176).INFO] -- #3 - [0.0041418125279802705, 0.7507359089566256, 0.4674231365884392, 0.41057935887670877, 0.8530739355199032, 0.9901261085853992, 0.9395350745523967, 0.7792625450338144, 0.32934169346023356, 0.9330411803297305, 0.6996120046477114, 0.043403157856132205, 0.5257494786342088, 0.8034569262895247, 0.5712188001155276, 0.9699018487170357, 0.7490672776611621, 0.9902557378345701, 0.4843201594284525, 0.23873347944198028, 0.830399018543677, 0.9466123934903582, 0.22680655561029933, 0.17318306809163753, 0.9553732208111102, 0.20116843381353935, 0.7962294779466336, 0.5726578300344086, 0.4009237873799061, 0.1699462853850853]\n",
      "04/09/2024 17:24:04,722 - [PCABO (1456350532176).INFO] -- #4 - [0.4821127196413624, 0.9346111462172467, 0.002913587804363526, 0.9260455974356683, 0.4391771599040674, 0.059191618182700224, 0.5923754854714113, 0.4580716760895721, 0.9437390110029793, 0.19618029897892258, 0.8150463898033512, 0.5047361283713068, 0.8347753713468754, 0.11968076453019649, 0.7525175978398221, 0.6019829819809084, 0.585531444044141, 0.19910667866971385, 0.7749923371769609, 0.7884767770614474, 0.7304217422626665, 0.04852173061465182, 0.6867770183139008, 0.23620838970955224, 0.40765397338356796, 0.6233876505629946, 0.8470629939637019, 0.8611867880630032, 0.6960334572786884, 0.4437469820603706]\n",
      "04/09/2024 17:24:04,724 - [PCABO (1456350532176).INFO] -- #5 - [0.9488090809002077, 0.3800995991366334, 0.24137423816546674, 0.10870384007896218, 0.3450795180499754, 0.7431204361562198, 0.14274468604422114, 0.9766236745191386, 0.08042375125645654, 0.7472758482910742, 0.44625139889843357, 0.20124809946513283, 0.32287267207017195, 0.4642767365874659, 0.014592287203462229, 0.4008608419030896, 0.881829154435561, 0.6211150840342765, 0.2291184050794748, 0.49230143233950346, 0.3296033643931357, 0.22461803930194887, 0.4935840452000854, 0.7319281917488243, 0.016523745529750777, 0.8198973930574175, 0.3927075715386275, 0.15683593954727684, 0.8796283130000362, 0.7998819822736734]\n",
      "04/09/2024 17:24:04,725 - [PCABO (1456350532176).INFO] -- ask takes 0.0182s\n",
      "04/09/2024 17:24:04,740 - [PCABO (1456350532176).INFO] -- observing 5 points:\n",
      "04/09/2024 17:24:04,740 - [PCABO (1456350532176).INFO] -- #1 - fitness: 144701.6694724437, solution: [0.9488090809002077, 0.3800995991366334, 0.24137423816546674, 0.10870384007896218, 0.3450795180499754, 0.7431204361562198, 0.14274468604422114, 0.9766236745191386, 0.08042375125645654, 0.7472758482910742, 0.44625139889843357, 0.20124809946513283, 0.32287267207017195, 0.4642767365874659, 0.014592287203462229, 0.4008608419030896, 0.881829154435561, 0.6211150840342765, 0.2291184050794748, 0.49230143233950346, 0.3296033643931357, 0.22461803930194887, 0.4935840452000854, 0.7319281917488243, 0.016523745529750777, 0.8198973930574175, 0.3927075715386275, 0.15683593954727684, 0.8796283130000362, 0.7998819822736734]\n",
      "04/09/2024 17:24:04,743 - [PCABO (1456350532176).INFO] -- #2 - fitness: 222498.4489608472, solution: [0.4821127196413624, 0.9346111462172467, 0.002913587804363526, 0.9260455974356683, 0.4391771599040674, 0.059191618182700224, 0.5923754854714113, 0.4580716760895721, 0.9437390110029793, 0.19618029897892258, 0.8150463898033512, 0.5047361283713068, 0.8347753713468754, 0.11968076453019649, 0.7525175978398221, 0.6019829819809084, 0.585531444044141, 0.19910667866971385, 0.7749923371769609, 0.7884767770614474, 0.7304217422626665, 0.04852173061465182, 0.6867770183139008, 0.23620838970955224, 0.40765397338356796, 0.6233876505629946, 0.8470629939637019, 0.8611867880630032, 0.6960334572786884, 0.4437469820603706]\n",
      "04/09/2024 17:24:04,743 - [PCABO (1456350532176).INFO] -- #3 - fitness: 201881.55425582305, solution: [0.0041418125279802705, 0.7507359089566256, 0.4674231365884392, 0.41057935887670877, 0.8530739355199032, 0.9901261085853992, 0.9395350745523967, 0.7792625450338144, 0.32934169346023356, 0.9330411803297305, 0.6996120046477114, 0.043403157856132205, 0.5257494786342088, 0.8034569262895247, 0.5712188001155276, 0.9699018487170357, 0.7490672776611621, 0.9902557378345701, 0.4843201594284525, 0.23873347944198028, 0.830399018543677, 0.9466123934903582, 0.22680655561029933, 0.17318306809163753, 0.9553732208111102, 0.20116843381353935, 0.7962294779466336, 0.5726578300344086, 0.4009237873799061, 0.1699462853850853]\n",
      "04/09/2024 17:24:04,743 - [PCABO (1456350532176).INFO] -- #4 - fitness: 157240.82390350036, solution: [0.7282832701403135, 0.16510763804121265, 0.7464734801936818, 0.3842747576931264, 0.7483826105893743, 0.4770946286749602, 0.7560765224626869, 0.3193410390058733, 0.7775663741609866, 0.5487460031944483, 0.1988971626905304, 0.9985048205469199, 0.025953448025466393, 0.35817533114996025, 0.2764802939301674, 0.3789330610059065, 0.09844158196034448, 0.3980588255689914, 0.16964540074915233, 0.9200119897951639, 0.5054260922150328, 0.665530555377596, 0.8769034040338226, 0.48116956048896237, 0.6308855520531976, 0.41566361091541165, 0.5492891092376525, 0.6083341698053486, 0.2824033397267219, 0.2029639168968964]\n",
      "04/09/2024 17:24:04,743 - [PCABO (1456350532176).INFO] -- #5 - fitness: 170158.40219139797, solution: [0.3632634630257397, 0.5060613576396891, 0.9076565144923673, 0.7889875725971315, 0.1734074322881532, 0.22803260404631054, 0.20093249940505906, 0.0560905833777332, 0.47538562017389513, 0.2727212127967606, 0.22977695712122065, 0.7641630569410256, 0.724726773680281, 0.6085019162551759, 0.8637420769523989, 0.1914138016384031, 0.2375469791991353, 0.46866927545092163, 0.9856459264100861, 0.17408787169217804, 0.1892256681987207, 0.551323193914734, 0.19996952723561143, 0.9269958093145182, 0.2367824344721616, 0.03553975668143593, 0.07848912254596835, 0.342611526079622, 0.07679979473248931, 0.8032347017577542]\n",
      "04/09/2024 17:24:04,980 - [PCABO (1456350532176).INFO] -- model r2: 0.9999999999992139, MAPE: 5.59794561167278e-07\n"
     ]
    },
    {
     "ename": "TypeError",
     "evalue": "can only concatenate list (not \"int\") to list",
     "output_type": "error",
     "traceback": [
      "\u001b[1;31m---------------------------------------------------------------------------\u001b[0m",
      "\u001b[1;31mTypeError\u001b[0m                                 Traceback (most recent call last)",
      "Cell \u001b[1;32mIn[6], line 8\u001b[0m\n\u001b[0;32m      6\u001b[0m \u001b[38;5;66;03m# budget = number of function evaluations\u001b[39;00m\n\u001b[0;32m      7\u001b[0m optimizer \u001b[38;5;241m=\u001b[39m ng\u001b[38;5;241m.\u001b[39moptimizers\u001b[38;5;241m.\u001b[39mPCABO(parametrization\u001b[38;5;241m=\u001b[39minstrum, budget\u001b[38;5;241m=\u001b[39m\u001b[38;5;241m100000\u001b[39m)\n\u001b[1;32m----> 8\u001b[0m res \u001b[38;5;241m=\u001b[39m \u001b[43moptimizer\u001b[49m\u001b[38;5;241;43m.\u001b[39;49m\u001b[43mminimize\u001b[49m\u001b[43m(\u001b[49m\u001b[43mfunc\u001b[49m\u001b[43m)\u001b[49m\n\u001b[0;32m      9\u001b[0m \u001b[38;5;28mprint\u001b[39m(func(res\u001b[38;5;241m.\u001b[39mvalue[\u001b[38;5;241m0\u001b[39m][\u001b[38;5;241m0\u001b[39m]))\n",
      "File \u001b[1;32mc:\\Users\\DELL\\AppData\\Local\\Programs\\Python\\Python312\\Lib\\site-packages\\nevergrad\\optimization\\base.py:684\u001b[0m, in \u001b[0;36mOptimizer.minimize\u001b[1;34m(self, objective_function, executor, batch_mode, verbosity, constraint_violation)\u001b[0m\n\u001b[0;32m    680\u001b[0m     \u001b[38;5;28mself\u001b[39m\u001b[38;5;241m.\u001b[39mtell(\n\u001b[0;32m    681\u001b[0m         x, result, [f(x\u001b[38;5;241m.\u001b[39mvalue) \u001b[38;5;28;01mfor\u001b[39;00m f \u001b[38;5;129;01min\u001b[39;00m constraint_violation]\n\u001b[0;32m    682\u001b[0m     )  \u001b[38;5;66;03m# TODO: this is not parallelized, wtf!\u001b[39;00m\n\u001b[0;32m    683\u001b[0m \u001b[38;5;28;01melse\u001b[39;00m:\n\u001b[1;32m--> 684\u001b[0m     \u001b[38;5;28;43mself\u001b[39;49m\u001b[38;5;241;43m.\u001b[39;49m\u001b[43mtell\u001b[49m\u001b[43m(\u001b[49m\u001b[43mx\u001b[49m\u001b[43m,\u001b[49m\u001b[43m \u001b[49m\u001b[43mresult\u001b[49m\u001b[43m)\u001b[49m\n\u001b[0;32m    685\u001b[0m \u001b[38;5;28mself\u001b[39m\u001b[38;5;241m.\u001b[39m_finished_jobs\u001b[38;5;241m.\u001b[39mpopleft()  \u001b[38;5;66;03m# remove it after the tell to make sure it was indeed \"told\" (in case of interruption)\u001b[39;00m\n\u001b[0;32m    686\u001b[0m \u001b[38;5;28;01mif\u001b[39;00m verbosity:\n",
      "File \u001b[1;32mc:\\Users\\DELL\\AppData\\Local\\Programs\\Python\\Python312\\Lib\\site-packages\\nevergrad\\optimization\\base.py:416\u001b[0m, in \u001b[0;36mOptimizer.tell\u001b[1;34m(self, candidate, loss, constraint_violation, penalty_style)\u001b[0m\n\u001b[0;32m    413\u001b[0m     \u001b[38;5;28mself\u001b[39m\u001b[38;5;241m.\u001b[39m_update_archive_and_bests(candidate, loss)\n\u001b[0;32m    415\u001b[0m \u001b[38;5;28;01mif\u001b[39;00m candidate\u001b[38;5;241m.\u001b[39muid \u001b[38;5;129;01min\u001b[39;00m \u001b[38;5;28mself\u001b[39m\u001b[38;5;241m.\u001b[39m_asked:\n\u001b[1;32m--> 416\u001b[0m     \u001b[38;5;28;43mself\u001b[39;49m\u001b[38;5;241;43m.\u001b[39;49m\u001b[43m_internal_tell_candidate\u001b[49m\u001b[43m(\u001b[49m\u001b[43mcandidate\u001b[49m\u001b[43m,\u001b[49m\u001b[43m \u001b[49m\u001b[43mloss\u001b[49m\u001b[43m)\u001b[49m\n\u001b[0;32m    417\u001b[0m     \u001b[38;5;28mself\u001b[39m\u001b[38;5;241m.\u001b[39m_asked\u001b[38;5;241m.\u001b[39mremove(candidate\u001b[38;5;241m.\u001b[39muid)\n\u001b[0;32m    418\u001b[0m \u001b[38;5;28;01melse\u001b[39;00m:\n",
      "File \u001b[1;32mc:\\Users\\DELL\\AppData\\Local\\Programs\\Python\\Python312\\Lib\\site-packages\\nevergrad\\optimization\\optimizerlib.py:3018\u001b[0m, in \u001b[0;36m_BayesOptim._internal_tell_candidate\u001b[1;34m(self, candidate, loss)\u001b[0m\n\u001b[0;32m   3016\u001b[0m \u001b[38;5;28;01mif\u001b[39;00m \u001b[38;5;129;01mnot\u001b[39;00m \u001b[38;5;28mself\u001b[39m\u001b[38;5;241m.\u001b[39m_buffer:\n\u001b[0;32m   3017\u001b[0m     \u001b[38;5;28;01mif\u001b[39;00m \u001b[38;5;124m\"\u001b[39m\u001b[38;5;124mx_probe\u001b[39m\u001b[38;5;124m\"\u001b[39m \u001b[38;5;129;01min\u001b[39;00m candidate\u001b[38;5;241m.\u001b[39m_meta:\n\u001b[1;32m-> 3018\u001b[0m         \u001b[38;5;28;43mself\u001b[39;49m\u001b[38;5;241;43m.\u001b[39;49m\u001b[43m_alg\u001b[49m\u001b[38;5;241;43m.\u001b[39;49m\u001b[43mtell\u001b[49m\u001b[43m(\u001b[49m\u001b[38;5;28;43mself\u001b[39;49m\u001b[38;5;241;43m.\u001b[39;49m\u001b[43m_newX\u001b[49m\u001b[43m,\u001b[49m\u001b[43m \u001b[49m\u001b[38;5;28;43mself\u001b[39;49m\u001b[38;5;241;43m.\u001b[39;49m\u001b[43m_losses\u001b[49m\u001b[43m)\u001b[49m\n\u001b[0;32m   3019\u001b[0m     \u001b[38;5;28;01melse\u001b[39;00m:\n\u001b[0;32m   3020\u001b[0m         data \u001b[38;5;241m=\u001b[39m candidate\u001b[38;5;241m.\u001b[39mget_standardized_data(reference\u001b[38;5;241m=\u001b[39m\u001b[38;5;28mself\u001b[39m\u001b[38;5;241m.\u001b[39mparametrization)\n",
      "File \u001b[1;32mc:\\Users\\DELL\\AppData\\Local\\Programs\\Python\\Python312\\Lib\\site-packages\\bayes_optim\\extension.py:176\u001b[0m, in \u001b[0;36mPCABO.tell\u001b[1;34m(self, new_X, new_y)\u001b[0m\n\u001b[0;32m    174\u001b[0m \u001b[38;5;66;03m# update the surrogate model\u001b[39;00m\n\u001b[0;32m    175\u001b[0m \u001b[38;5;28mself\u001b[39m\u001b[38;5;241m.\u001b[39mupdate_model(X, \u001b[38;5;28mself\u001b[39m\u001b[38;5;241m.\u001b[39mdata\u001b[38;5;241m.\u001b[39mfitness)\n\u001b[1;32m--> 176\u001b[0m \u001b[38;5;28mself\u001b[39m\u001b[38;5;241m.\u001b[39mlogger\u001b[38;5;241m.\u001b[39minfo(\u001b[38;5;124mf\u001b[39m\u001b[38;5;124m\"\u001b[39m\u001b[38;5;124mxopt/fopt:\u001b[39m\u001b[38;5;130;01m\\n\u001b[39;00m\u001b[38;5;132;43;01m{\u001b[39;49;00m\u001b[38;5;28;43mself\u001b[39;49m\u001b[38;5;241;43m.\u001b[39;49m\u001b[43mxopt\u001b[49m\u001b[38;5;132;43;01m}\u001b[39;49;00m\u001b[38;5;130;01m\\n\u001b[39;00m\u001b[38;5;124m\"\u001b[39m)\n",
      "File \u001b[1;32mc:\\Users\\DELL\\AppData\\Local\\Programs\\Python\\Python312\\Lib\\site-packages\\bayes_optim\\solution.py:195\u001b[0m, in \u001b[0;36mSolution.__str__\u001b[1;34m(self)\u001b[0m\n\u001b[0;32m    192\u001b[0m headers \u001b[38;5;241m=\u001b[39m var_name \u001b[38;5;241m+\u001b[39m [\u001b[38;5;124m\"\u001b[39m\u001b[38;5;124mn_eval\u001b[39m\u001b[38;5;124m\"\u001b[39m] \u001b[38;5;241m+\u001b[39m \u001b[38;5;28mself\u001b[39m\u001b[38;5;241m.\u001b[39mfitness_name \u001b[38;5;28;01mif\u001b[39;00m \u001b[38;5;28mself\u001b[39m\u001b[38;5;241m.\u001b[39mverbose \u001b[38;5;28;01melse\u001b[39;00m var_name\n\u001b[0;32m    193\u001b[0m \u001b[38;5;28;01mif\u001b[39;00m \u001b[38;5;28mlen\u001b[39m(\u001b[38;5;28mself\u001b[39m\u001b[38;5;241m.\u001b[39mshape) \u001b[38;5;241m==\u001b[39m \u001b[38;5;241m1\u001b[39m:\n\u001b[0;32m    194\u001b[0m     t \u001b[38;5;241m=\u001b[39m (\n\u001b[1;32m--> 195\u001b[0m         [\u001b[38;5;28;43mself\u001b[39;49m\u001b[38;5;241;43m.\u001b[39;49m\u001b[43mtolist\u001b[49m\u001b[43m(\u001b[49m\u001b[43m)\u001b[49m\u001b[43m \u001b[49m\u001b[38;5;241;43m+\u001b[39;49m\u001b[43m \u001b[49m\u001b[38;5;28;43mself\u001b[39;49m\u001b[38;5;241;43m.\u001b[39;49m\u001b[43mn_eval\u001b[49m\u001b[38;5;241;43m.\u001b[39;49m\u001b[43mtolist\u001b[49m\u001b[43m(\u001b[49m\u001b[43m)\u001b[49m \u001b[38;5;241m+\u001b[39m \u001b[38;5;28mself\u001b[39m\u001b[38;5;241m.\u001b[39mfitness\u001b[38;5;241m.\u001b[39mtolist()]\n\u001b[0;32m    196\u001b[0m         \u001b[38;5;28;01mif\u001b[39;00m \u001b[38;5;28mself\u001b[39m\u001b[38;5;241m.\u001b[39mverbose\n\u001b[0;32m    197\u001b[0m         \u001b[38;5;28;01melse\u001b[39;00m [\u001b[38;5;28mself\u001b[39m\u001b[38;5;241m.\u001b[39mtolist()]\n\u001b[0;32m    198\u001b[0m     )\n\u001b[0;32m    199\u001b[0m \u001b[38;5;28;01melse\u001b[39;00m:\n\u001b[0;32m    200\u001b[0m     t \u001b[38;5;241m=\u001b[39m np\u001b[38;5;241m.\u001b[39mc_[\u001b[38;5;28mself\u001b[39m, \u001b[38;5;28mself\u001b[39m\u001b[38;5;241m.\u001b[39mn_eval, \u001b[38;5;28mself\u001b[39m\u001b[38;5;241m.\u001b[39mfitness]\u001b[38;5;241m.\u001b[39mtolist() \u001b[38;5;28;01mif\u001b[39;00m \u001b[38;5;28mself\u001b[39m\u001b[38;5;241m.\u001b[39mverbose \u001b[38;5;28;01melse\u001b[39;00m \u001b[38;5;28mself\u001b[39m\u001b[38;5;241m.\u001b[39mtolist()\n",
      "\u001b[1;31mTypeError\u001b[0m: can only concatenate list (not \"int\") to list"
     ]
    }
   ],
   "source": [
    "import nevergrad as ng \n",
    "instrum = ng.p.Instrumentation(\n",
    "    ng.p.Array(shape=(30,)).set_bounds(lower=-100, upper=100)\n",
    ")\n",
    "func = GNBG(1).fitness_of_ind \n",
    "# budget = number of function evaluations\n",
    "optimizer = ng.optimizers.PCABO(parametrization=instrum, budget=100000)\n",
    "res = optimizer.minimize(func)\n",
    "print(func(res.value[0][0]))"
   ]
  },
  {
   "cell_type": "code",
   "execution_count": 15,
   "metadata": {},
   "outputs": [
    {
     "name": "stdout",
     "output_type": "stream",
     "text": [
      "ID: 16\n",
      "Optimal value:  -5000\n",
      "ID: 17\n",
      "Optimal value:  -5000\n",
      "ID: 18\n",
      "Optimal value:  -5000\n",
      "ID: 19\n",
      "Optimal value:  -5000\n",
      "ID: 20\n",
      "Optimal value:  -98.92802572031052\n",
      "ID: 21\n",
      "Optimal value:  -50\n",
      "ID: 22\n",
      "Optimal value:  -1000\n",
      "ID: 23\n",
      "Optimal value:  -100\n",
      "ID: 24\n",
      "Optimal value:  -98.90165316616695\n"
     ]
    }
   ],
   "source": [
    "function_list = []\n",
    "for i in [16,17,18,19,20,21,22,23,24]:\n",
    "    function_list.append(GNBG(i).fitness_mfea)\n"
   ]
  },
  {
   "cell_type": "code",
   "execution_count": 16,
   "metadata": {},
   "outputs": [],
   "source": [
    "# algorithm = MFEA(prob=function_list1, POPSIZE = 100, MAX_GEN = 500, rmp = 0.3, gen_length = 30, MAX_FES = 1000000, mode=\"MFEA\")\n",
    "# algorithm.run()"
   ]
  },
  {
   "cell_type": "code",
   "execution_count": 17,
   "metadata": {},
   "outputs": [],
   "source": [
    "# print(sorted(ng.optimizers.registry.keys()))"
   ]
  },
  {
   "cell_type": "code",
   "execution_count": 18,
   "metadata": {},
   "outputs": [],
   "source": [
    "# def check(x):\n",
    "#     return not np.all((x >= 0) & (x <= 1))"
   ]
  },
  {
   "cell_type": "code",
   "execution_count": 19,
   "metadata": {},
   "outputs": [
    {
     "name": "stderr",
     "output_type": "stream",
     "text": [
      "Current fitness: 1: -4999.999999999999 2: -5000.0 3: -5000.0 4: -5000.0 5: -100.0 6: -50.0 7: -999.9999999999998 8: -100.0 9: -98.90165316616695 :  14%|█▍        | 1.26M/9.00M [17:33<3:30:50, 612FEs/s]                                                                           "
     ]
    },
    {
     "ename": "KeyboardInterrupt",
     "evalue": "",
     "output_type": "error",
     "traceback": [
      "\u001b[1;31m---------------------------------------------------------------------------\u001b[0m",
      "\u001b[1;31mKeyboardInterrupt\u001b[0m                         Traceback (most recent call last)",
      "Cell \u001b[1;32mIn[19], line 4\u001b[0m\n\u001b[0;32m      2\u001b[0m \u001b[38;5;28;01mfrom\u001b[39;00m \u001b[38;5;21;01mEMEBI\u001b[39;00m \u001b[38;5;28;01mimport\u001b[39;00m \u001b[38;5;241m*\u001b[39m\n\u001b[0;32m      3\u001b[0m algorithm2 \u001b[38;5;241m=\u001b[39m EMEBI(name\u001b[38;5;241m=\u001b[39m\u001b[38;5;124m\"\u001b[39m\u001b[38;5;124mEMEBI\u001b[39m\u001b[38;5;124m\"\u001b[39m, prob\u001b[38;5;241m=\u001b[39mfunction_list, gen_length\u001b[38;5;241m=\u001b[39m\u001b[38;5;241m30\u001b[39m, MAX_FES \u001b[38;5;241m=\u001b[39m \u001b[38;5;241m1000000\u001b[39m\u001b[38;5;241m*\u001b[39m\u001b[38;5;241m9\u001b[39m, phasethree\u001b[38;5;241m=\u001b[39m\u001b[38;5;28;01mTrue\u001b[39;00m, das_crossover\u001b[38;5;241m=\u001b[39m\u001b[38;5;28;01mFalse\u001b[39;00m)\n\u001b[1;32m----> 4\u001b[0m log2, pop2 \u001b[38;5;241m=\u001b[39m \u001b[43malgorithm2\u001b[49m\u001b[38;5;241;43m.\u001b[39;49m\u001b[43mrun\u001b[49m\u001b[43m(\u001b[49m\u001b[43m)\u001b[49m\n",
      "File \u001b[1;32mc:\\Users\\DELL\\OneDrive - Hanoi University of Science and Technology\\Documents\\IHB-Learning\\Numerical Competition\\EMEBI.py:84\u001b[0m, in \u001b[0;36mEMEBI.run\u001b[1;34m(self, checkpoint)\u001b[0m\n\u001b[0;32m     82\u001b[0m     \u001b[38;5;28mself\u001b[39m\u001b[38;5;241m.\u001b[39mphaseThree(D0, pop)\n\u001b[0;32m     83\u001b[0m \u001b[38;5;28;01mif\u001b[39;00m \u001b[38;5;28mself\u001b[39m\u001b[38;5;241m.\u001b[39mphasethree:\n\u001b[1;32m---> 84\u001b[0m     \u001b[38;5;28;43mself\u001b[39;49m\u001b[38;5;241;43m.\u001b[39;49m\u001b[43mphaseTwo\u001b[49m\u001b[43m(\u001b[49m\u001b[43mD0\u001b[49m\u001b[43m,\u001b[49m\u001b[43m \u001b[49m\u001b[43mpop\u001b[49m\u001b[43m)\u001b[49m\n\u001b[0;32m     85\u001b[0m new_fes \u001b[38;5;241m=\u001b[39m Parameter\u001b[38;5;241m.\u001b[39mFEs\n\u001b[0;32m     86\u001b[0m \u001b[38;5;28;01mif\u001b[39;00m Parameter\u001b[38;5;241m.\u001b[39mFEs \u001b[38;5;241m<\u001b[39m\u001b[38;5;241m=\u001b[39m \u001b[38;5;28mself\u001b[39m\u001b[38;5;241m.\u001b[39mMAX_FES:\n",
      "File \u001b[1;32mc:\\Users\\DELL\\OneDrive - Hanoi University of Science and Technology\\Documents\\IHB-Learning\\Numerical Competition\\EMEBI.py:220\u001b[0m, in \u001b[0;36mEMEBI.phaseTwo\u001b[1;34m(self, D0, pop)\u001b[0m\n\u001b[0;32m    218\u001b[0m subpops \u001b[38;5;241m=\u001b[39m pop\u001b[38;5;241m.\u001b[39mget_subpops()\n\u001b[0;32m    219\u001b[0m \u001b[38;5;28;01mfor\u001b[39;00m i \u001b[38;5;129;01min\u001b[39;00m \u001b[38;5;28mrange\u001b[39m(\u001b[38;5;28mlen\u001b[39m(\u001b[38;5;28mself\u001b[39m\u001b[38;5;241m.\u001b[39mprob)):\n\u001b[1;32m--> 220\u001b[0m     nextPop \u001b[38;5;241m=\u001b[39m \u001b[38;5;28;43mself\u001b[39;49m\u001b[38;5;241;43m.\u001b[39;49m\u001b[43mlearningPhase\u001b[49m\u001b[43m[\u001b[49m\u001b[43mi\u001b[49m\u001b[43m]\u001b[49m\u001b[38;5;241;43m.\u001b[39;49m\u001b[43mevolve\u001b[49m\u001b[43m(\u001b[49m\u001b[43msubpops\u001b[49m\u001b[43m[\u001b[49m\u001b[43mi\u001b[49m\u001b[43m]\u001b[49m\u001b[43m,\u001b[49m\u001b[43m \u001b[49m\u001b[38;5;241;43m1000\u001b[39;49m\u001b[43m,\u001b[49m\u001b[43m \u001b[49m\u001b[38;5;241;43m1000\u001b[39;49m\u001b[43m)\u001b[49m\n\u001b[0;32m    221\u001b[0m     newPop\u001b[38;5;241m.\u001b[39mextend(nextPop)\n\u001b[0;32m    222\u001b[0m pop\u001b[38;5;241m.\u001b[39mpop \u001b[38;5;241m=\u001b[39m newPop\n",
      "File \u001b[1;32mc:\\Users\\DELL\\OneDrive - Hanoi University of Science and Technology\\Documents\\IHB-Learning\\Numerical Competition\\Learning.py:101\u001b[0m, in \u001b[0;36mLearningPhaseILS.evolve\u001b[1;34m(self, subpop, DE_evals, LS_evals)\u001b[0m\n\u001b[0;32m     99\u001b[0m \u001b[38;5;28;01mif\u001b[39;00m \u001b[38;5;28mself\u001b[39m\u001b[38;5;241m.\u001b[39msearcher[\u001b[38;5;241m0\u001b[39m]\u001b[38;5;241m.\u001b[39meffective \u001b[38;5;241m==\u001b[39m \u001b[38;5;28mself\u001b[39m\u001b[38;5;241m.\u001b[39msearcher[\u001b[38;5;241m1\u001b[39m]\u001b[38;5;241m.\u001b[39meffective:\n\u001b[0;32m    100\u001b[0m     this_iteration_searcher \u001b[38;5;241m=\u001b[39m random\u001b[38;5;241m.\u001b[39mchoice(\u001b[38;5;28mself\u001b[39m\u001b[38;5;241m.\u001b[39msearcher)\n\u001b[1;32m--> 101\u001b[0m subpop[\u001b[38;5;241m0\u001b[39m] \u001b[38;5;241m=\u001b[39m \u001b[43mthis_iteration_searcher\u001b[49m\u001b[38;5;241;43m.\u001b[39;49m\u001b[43msearch\u001b[49m\u001b[43m(\u001b[49m\u001b[43msubpop\u001b[49m\u001b[43m[\u001b[49m\u001b[38;5;241;43m0\u001b[39;49m\u001b[43m]\u001b[49m\u001b[43m,\u001b[49m\u001b[43m \u001b[49m\u001b[43mLS_evals\u001b[49m\u001b[43m)\u001b[49m\n\u001b[0;32m    102\u001b[0m this_fitness \u001b[38;5;241m=\u001b[39m subpop[\u001b[38;5;241m0\u001b[39m]\u001b[38;5;241m.\u001b[39mfitness[subpop[\u001b[38;5;241m0\u001b[39m]\u001b[38;5;241m.\u001b[39mskill_factor \u001b[38;5;241m-\u001b[39m \u001b[38;5;241m1\u001b[39m]\n\u001b[0;32m    103\u001b[0m  \u001b[38;5;66;03m############ One more L-BFGS-B ######################\u001b[39;00m\n",
      "File \u001b[1;32mc:\\Users\\DELL\\OneDrive - Hanoi University of Science and Technology\\Documents\\IHB-Learning\\Numerical Competition\\Searcher.py:412\u001b[0m, in \u001b[0;36mMTSLS1.search\u001b[1;34m(self, ind, maxeval)\u001b[0m\n\u001b[0;32m    410\u001b[0m \u001b[38;5;28;01mwhile\u001b[39;00m Parameter\u001b[38;5;241m.\u001b[39mFEs \u001b[38;5;241m<\u001b[39m maxevals:\n\u001b[0;32m    411\u001b[0m     i \u001b[38;5;241m=\u001b[39m dim_sorted[d]\n\u001b[1;32m--> 412\u001b[0m     result \u001b[38;5;241m=\u001b[39m \u001b[38;5;28;43mself\u001b[39;49m\u001b[38;5;241;43m.\u001b[39;49m\u001b[43m__mtsls_improve_dim\u001b[49m\u001b[43m(\u001b[49m\u001b[43mcurrent_best\u001b[49m\u001b[43m,\u001b[49m\u001b[43m \u001b[49m\u001b[43mi\u001b[49m\u001b[43m,\u001b[49m\u001b[43m \u001b[49m\u001b[38;5;28;43mself\u001b[39;49m\u001b[38;5;241;43m.\u001b[39;49m\u001b[43mSR\u001b[49m\u001b[43m)\u001b[49m\n\u001b[0;32m    413\u001b[0m     improve \u001b[38;5;241m=\u001b[39m \u001b[38;5;28mmax\u001b[39m(current_best\u001b[38;5;241m.\u001b[39mfitness[current_best\u001b[38;5;241m.\u001b[39mskill_factor\u001b[38;5;241m-\u001b[39m\u001b[38;5;241m1\u001b[39m] \u001b[38;5;241m-\u001b[39m result\u001b[38;5;241m.\u001b[39mfitness[result\u001b[38;5;241m.\u001b[39mskill_factor\u001b[38;5;241m-\u001b[39m\u001b[38;5;241m1\u001b[39m], \u001b[38;5;241m0\u001b[39m)\n\u001b[0;32m    414\u001b[0m     improvement[i] \u001b[38;5;241m=\u001b[39m improve\n",
      "File \u001b[1;32mc:\\Users\\DELL\\OneDrive - Hanoi University of Science and Technology\\Documents\\IHB-Learning\\Numerical Competition\\Searcher.py:370\u001b[0m, in \u001b[0;36mMTSLS1.__mtsls_improve_dim\u001b[1;34m(self, sol, i, SR)\u001b[0m\n\u001b[0;32m    368\u001b[0m \u001b[38;5;28;01mdef\u001b[39;00m \u001b[38;5;21m__mtsls_improve_dim\u001b[39m(\u001b[38;5;28mself\u001b[39m, sol, i, SR):\n\u001b[0;32m    369\u001b[0m     best_fitness \u001b[38;5;241m=\u001b[39m sol\u001b[38;5;241m.\u001b[39mfitness[sol\u001b[38;5;241m.\u001b[39mskill_factor\u001b[38;5;241m-\u001b[39m\u001b[38;5;241m1\u001b[39m]\n\u001b[1;32m--> 370\u001b[0m     newsol \u001b[38;5;241m=\u001b[39m \u001b[43mcopy\u001b[49m\u001b[38;5;241;43m.\u001b[39;49m\u001b[43mdeepcopy\u001b[49m\u001b[43m(\u001b[49m\u001b[43msol\u001b[49m\u001b[43m)\u001b[49m\n\u001b[0;32m    371\u001b[0m     newsol\u001b[38;5;241m.\u001b[39mgenes[i] \u001b[38;5;241m-\u001b[39m\u001b[38;5;241m=\u001b[39m SR[i]\n\u001b[0;32m    372\u001b[0m     newsol\u001b[38;5;241m.\u001b[39mgenes \u001b[38;5;241m=\u001b[39m np\u001b[38;5;241m.\u001b[39mclip(newsol\u001b[38;5;241m.\u001b[39mgenes, \u001b[38;5;241m0\u001b[39m, \u001b[38;5;241m1\u001b[39m)\n",
      "File \u001b[1;32mc:\\Users\\DELL\\AppData\\Local\\Programs\\Python\\Python312\\Lib\\copy.py:162\u001b[0m, in \u001b[0;36mdeepcopy\u001b[1;34m(x, memo, _nil)\u001b[0m\n\u001b[0;32m    160\u001b[0m                 y \u001b[38;5;241m=\u001b[39m x\n\u001b[0;32m    161\u001b[0m             \u001b[38;5;28;01melse\u001b[39;00m:\n\u001b[1;32m--> 162\u001b[0m                 y \u001b[38;5;241m=\u001b[39m \u001b[43m_reconstruct\u001b[49m\u001b[43m(\u001b[49m\u001b[43mx\u001b[49m\u001b[43m,\u001b[49m\u001b[43m \u001b[49m\u001b[43mmemo\u001b[49m\u001b[43m,\u001b[49m\u001b[43m \u001b[49m\u001b[38;5;241;43m*\u001b[39;49m\u001b[43mrv\u001b[49m\u001b[43m)\u001b[49m\n\u001b[0;32m    164\u001b[0m \u001b[38;5;66;03m# If is its own copy, don't memoize.\u001b[39;00m\n\u001b[0;32m    165\u001b[0m \u001b[38;5;28;01mif\u001b[39;00m y \u001b[38;5;129;01mis\u001b[39;00m \u001b[38;5;129;01mnot\u001b[39;00m x:\n",
      "File \u001b[1;32mc:\\Users\\DELL\\AppData\\Local\\Programs\\Python\\Python312\\Lib\\copy.py:259\u001b[0m, in \u001b[0;36m_reconstruct\u001b[1;34m(x, memo, func, args, state, listiter, dictiter, deepcopy)\u001b[0m\n\u001b[0;32m    257\u001b[0m \u001b[38;5;28;01mif\u001b[39;00m state \u001b[38;5;129;01mis\u001b[39;00m \u001b[38;5;129;01mnot\u001b[39;00m \u001b[38;5;28;01mNone\u001b[39;00m:\n\u001b[0;32m    258\u001b[0m     \u001b[38;5;28;01mif\u001b[39;00m deep:\n\u001b[1;32m--> 259\u001b[0m         state \u001b[38;5;241m=\u001b[39m \u001b[43mdeepcopy\u001b[49m\u001b[43m(\u001b[49m\u001b[43mstate\u001b[49m\u001b[43m,\u001b[49m\u001b[43m \u001b[49m\u001b[43mmemo\u001b[49m\u001b[43m)\u001b[49m\n\u001b[0;32m    260\u001b[0m     \u001b[38;5;28;01mif\u001b[39;00m \u001b[38;5;28mhasattr\u001b[39m(y, \u001b[38;5;124m'\u001b[39m\u001b[38;5;124m__setstate__\u001b[39m\u001b[38;5;124m'\u001b[39m):\n\u001b[0;32m    261\u001b[0m         y\u001b[38;5;241m.\u001b[39m__setstate__(state)\n",
      "File \u001b[1;32mc:\\Users\\DELL\\AppData\\Local\\Programs\\Python\\Python312\\Lib\\copy.py:136\u001b[0m, in \u001b[0;36mdeepcopy\u001b[1;34m(x, memo, _nil)\u001b[0m\n\u001b[0;32m    134\u001b[0m copier \u001b[38;5;241m=\u001b[39m _deepcopy_dispatch\u001b[38;5;241m.\u001b[39mget(\u001b[38;5;28mcls\u001b[39m)\n\u001b[0;32m    135\u001b[0m \u001b[38;5;28;01mif\u001b[39;00m copier \u001b[38;5;129;01mis\u001b[39;00m \u001b[38;5;129;01mnot\u001b[39;00m \u001b[38;5;28;01mNone\u001b[39;00m:\n\u001b[1;32m--> 136\u001b[0m     y \u001b[38;5;241m=\u001b[39m \u001b[43mcopier\u001b[49m\u001b[43m(\u001b[49m\u001b[43mx\u001b[49m\u001b[43m,\u001b[49m\u001b[43m \u001b[49m\u001b[43mmemo\u001b[49m\u001b[43m)\u001b[49m\n\u001b[0;32m    137\u001b[0m \u001b[38;5;28;01melse\u001b[39;00m:\n\u001b[0;32m    138\u001b[0m     \u001b[38;5;28;01mif\u001b[39;00m \u001b[38;5;28missubclass\u001b[39m(\u001b[38;5;28mcls\u001b[39m, \u001b[38;5;28mtype\u001b[39m):\n",
      "File \u001b[1;32mc:\\Users\\DELL\\AppData\\Local\\Programs\\Python\\Python312\\Lib\\copy.py:221\u001b[0m, in \u001b[0;36m_deepcopy_dict\u001b[1;34m(x, memo, deepcopy)\u001b[0m\n\u001b[0;32m    219\u001b[0m memo[\u001b[38;5;28mid\u001b[39m(x)] \u001b[38;5;241m=\u001b[39m y\n\u001b[0;32m    220\u001b[0m \u001b[38;5;28;01mfor\u001b[39;00m key, value \u001b[38;5;129;01min\u001b[39;00m x\u001b[38;5;241m.\u001b[39mitems():\n\u001b[1;32m--> 221\u001b[0m     y[deepcopy(key, memo)] \u001b[38;5;241m=\u001b[39m \u001b[43mdeepcopy\u001b[49m\u001b[43m(\u001b[49m\u001b[43mvalue\u001b[49m\u001b[43m,\u001b[49m\u001b[43m \u001b[49m\u001b[43mmemo\u001b[49m\u001b[43m)\u001b[49m\n\u001b[0;32m    222\u001b[0m \u001b[38;5;28;01mreturn\u001b[39;00m y\n",
      "File \u001b[1;32mc:\\Users\\DELL\\AppData\\Local\\Programs\\Python\\Python312\\Lib\\copy.py:143\u001b[0m, in \u001b[0;36mdeepcopy\u001b[1;34m(x, memo, _nil)\u001b[0m\n\u001b[0;32m    141\u001b[0m copier \u001b[38;5;241m=\u001b[39m \u001b[38;5;28mgetattr\u001b[39m(x, \u001b[38;5;124m\"\u001b[39m\u001b[38;5;124m__deepcopy__\u001b[39m\u001b[38;5;124m\"\u001b[39m, \u001b[38;5;28;01mNone\u001b[39;00m)\n\u001b[0;32m    142\u001b[0m \u001b[38;5;28;01mif\u001b[39;00m copier \u001b[38;5;129;01mis\u001b[39;00m \u001b[38;5;129;01mnot\u001b[39;00m \u001b[38;5;28;01mNone\u001b[39;00m:\n\u001b[1;32m--> 143\u001b[0m     y \u001b[38;5;241m=\u001b[39m \u001b[43mcopier\u001b[49m\u001b[43m(\u001b[49m\u001b[43mmemo\u001b[49m\u001b[43m)\u001b[49m\n\u001b[0;32m    144\u001b[0m \u001b[38;5;28;01melse\u001b[39;00m:\n\u001b[0;32m    145\u001b[0m     reductor \u001b[38;5;241m=\u001b[39m dispatch_table\u001b[38;5;241m.\u001b[39mget(\u001b[38;5;28mcls\u001b[39m)\n",
      "\u001b[1;31mKeyboardInterrupt\u001b[0m: "
     ]
    }
   ],
   "source": [
    "from MFEAcode import *\n",
    "from EMEBI import *\n",
    "algorithm2 = EMEBI(name=\"EMEBI\", prob=function_list, gen_length=30, MAX_FES = 1000000*9, phasethree=True, das_crossover=False)\n",
    "log2, pop2 = algorithm2.run()\n"
   ]
  },
  {
   "cell_type": "code",
   "execution_count": null,
   "metadata": {},
   "outputs": [
    {
     "data": {
      "text/plain": [
       "[<matplotlib.lines.Line2D at 0x1ecb2865ac0>]"
      ]
     },
     "execution_count": 11,
     "metadata": {},
     "output_type": "execute_result"
    },
    {
     "data": {
      "image/png": "[encoded data removed]",
      "text/plain": [
       "<Figure size 640x480 with 1 Axes>"
      ]
     },
     "metadata": {},
     "output_type": "display_data"
    }
   ],
   "source": [
    "plt.plot([y[1] for y in log2[0]])"
   ]
  },
  {
   "cell_type": "markdown",
   "metadata": {},
   "source": [
    "## 2. DE"
   ]
  },
  {
   "cell_type": "code",
   "execution_count": null,
   "metadata": {},
   "outputs": [],
   "source": [
    "# from DE import DE"
   ]
  },
  {
   "cell_type": "code",
   "execution_count": null,
   "metadata": {},
   "outputs": [],
   "source": [
    "# DE(17, MAX_FES=500000)"
   ]
  }
 ],
 "metadata": {
  "kernelspec": {
   "display_name": "Python 3",
   "language": "python",
   "name": "python3"
  },
  "language_info": {
   "codemirror_mode": {
    "name": "ipython",
    "version": 3
   },
   "file_extension": ".py",
   "mimetype": "text/x-python",
   "name": "python",
   "nbconvert_exporter": "python",
   "pygments_lexer": "ipython3",
   "version": "3.12.2"
  }
 },
 "nbformat": 4,
 "nbformat_minor": 2
}
